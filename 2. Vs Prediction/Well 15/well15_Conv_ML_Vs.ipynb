{
 "cells": [
  {
   "cell_type": "code",
   "execution_count": 1,
   "metadata": {},
   "outputs": [],
   "source": [
    "#pip install xgboost"
   ]
  },
  {
   "cell_type": "code",
   "execution_count": 2,
   "metadata": {
    "id": "YJpQ36eVtcn6"
   },
   "outputs": [],
   "source": [
    "# Importing related libraries\n",
    "%matplotlib inline\n",
    "import pandas as pd\n",
    "import numpy as np\n",
    "import matplotlib as mpl\n",
    "import matplotlib.pyplot as plt\n",
    "import matplotlib.colors as colors\n",
    "import tensorflow as tf\n",
    "import keras\n",
    "import autokeras as ak\n",
    "import random\n",
    "from mpl_toolkits.axes_grid1 import make_axes_locatable\n",
    "import math\n",
    "from xgboost import XGBClassifier\n",
    "from xgboost import XGBRegressor"
   ]
  },
  {
   "cell_type": "code",
   "execution_count": 3,
   "metadata": {},
   "outputs": [],
   "source": [
    "# Set seed to make sure the code to be reproducible\n",
    "random.seed(123)\n",
    "np.random.seed(123)\n",
    "tf.random.set_seed(123)"
   ]
  },
  {
   "cell_type": "code",
   "execution_count": 4,
   "metadata": {
    "colab": {
     "base_uri": "https://localhost:8080/",
     "height": 424
    },
    "id": "C8KU6lAxvbok",
    "outputId": "c17a8875-f06f-413b-945c-a46954d92295"
   },
   "outputs": [
    {
     "data": {
      "text/html": [
       "<div>\n",
       "<style scoped>\n",
       "    .dataframe tbody tr th:only-of-type {\n",
       "        vertical-align: middle;\n",
       "    }\n",
       "\n",
       "    .dataframe tbody tr th {\n",
       "        vertical-align: top;\n",
       "    }\n",
       "\n",
       "    .dataframe thead th {\n",
       "        text-align: right;\n",
       "    }\n",
       "</style>\n",
       "<table border=\"1\" class=\"dataframe\">\n",
       "  <thead>\n",
       "    <tr style=\"text-align: right;\">\n",
       "      <th></th>\n",
       "      <th>DTC</th>\n",
       "      <th>DTS</th>\n",
       "      <th>GR</th>\n",
       "      <th>LITHOLOGY_GEOLINK</th>\n",
       "      <th>NPHI</th>\n",
       "      <th>RDEP</th>\n",
       "      <th>RHOB</th>\n",
       "      <th>RMED</th>\n",
       "      <th>WELL</th>\n",
       "      <th>Depth</th>\n",
       "    </tr>\n",
       "  </thead>\n",
       "  <tbody>\n",
       "    <tr>\n",
       "      <th>0</th>\n",
       "      <td>115.693207</td>\n",
       "      <td>267.867310</td>\n",
       "      <td>96.910202</td>\n",
       "      <td>6.0</td>\n",
       "      <td>0.391600</td>\n",
       "      <td>0.709900</td>\n",
       "      <td>2.480200</td>\n",
       "      <td>0.665700</td>\n",
       "      <td>15/9-23</td>\n",
       "      <td>2315.461914</td>\n",
       "    </tr>\n",
       "    <tr>\n",
       "      <th>1</th>\n",
       "      <td>115.910004</td>\n",
       "      <td>272.334198</td>\n",
       "      <td>108.976501</td>\n",
       "      <td>6.0</td>\n",
       "      <td>0.391100</td>\n",
       "      <td>0.721212</td>\n",
       "      <td>2.502200</td>\n",
       "      <td>0.669454</td>\n",
       "      <td>15/9-23</td>\n",
       "      <td>2315.614502</td>\n",
       "    </tr>\n",
       "    <tr>\n",
       "      <th>2</th>\n",
       "      <td>116.315399</td>\n",
       "      <td>280.204407</td>\n",
       "      <td>126.231796</td>\n",
       "      <td>6.0</td>\n",
       "      <td>0.407800</td>\n",
       "      <td>0.728698</td>\n",
       "      <td>2.473100</td>\n",
       "      <td>0.702844</td>\n",
       "      <td>15/9-23</td>\n",
       "      <td>2315.766846</td>\n",
       "    </tr>\n",
       "    <tr>\n",
       "      <th>3</th>\n",
       "      <td>117.308701</td>\n",
       "      <td>283.573303</td>\n",
       "      <td>149.429504</td>\n",
       "      <td>6.0</td>\n",
       "      <td>0.407700</td>\n",
       "      <td>0.727200</td>\n",
       "      <td>2.481300</td>\n",
       "      <td>0.730400</td>\n",
       "      <td>15/9-23</td>\n",
       "      <td>2315.919189</td>\n",
       "    </tr>\n",
       "    <tr>\n",
       "      <th>4</th>\n",
       "      <td>120.262398</td>\n",
       "      <td>290.746399</td>\n",
       "      <td>163.915497</td>\n",
       "      <td>6.0</td>\n",
       "      <td>0.426000</td>\n",
       "      <td>0.704400</td>\n",
       "      <td>2.470900</td>\n",
       "      <td>0.677300</td>\n",
       "      <td>15/9-23</td>\n",
       "      <td>2316.071533</td>\n",
       "    </tr>\n",
       "    <tr>\n",
       "      <th>...</th>\n",
       "      <td>...</td>\n",
       "      <td>...</td>\n",
       "      <td>...</td>\n",
       "      <td>...</td>\n",
       "      <td>...</td>\n",
       "      <td>...</td>\n",
       "      <td>...</td>\n",
       "      <td>...</td>\n",
       "      <td>...</td>\n",
       "      <td>...</td>\n",
       "    </tr>\n",
       "    <tr>\n",
       "      <th>184714</th>\n",
       "      <td>102.518501</td>\n",
       "      <td>127.078522</td>\n",
       "      <td>30.631025</td>\n",
       "      <td>1.0</td>\n",
       "      <td>0.166493</td>\n",
       "      <td>0.830020</td>\n",
       "      <td>2.334237</td>\n",
       "      <td>0.788812</td>\n",
       "      <td>7/1-2 S</td>\n",
       "      <td>3159.605469</td>\n",
       "    </tr>\n",
       "    <tr>\n",
       "      <th>184715</th>\n",
       "      <td>102.657097</td>\n",
       "      <td>127.074806</td>\n",
       "      <td>32.643269</td>\n",
       "      <td>1.0</td>\n",
       "      <td>0.176284</td>\n",
       "      <td>0.858255</td>\n",
       "      <td>2.365948</td>\n",
       "      <td>0.819950</td>\n",
       "      <td>7/1-2 S</td>\n",
       "      <td>3159.757812</td>\n",
       "    </tr>\n",
       "    <tr>\n",
       "      <th>184716</th>\n",
       "      <td>102.701103</td>\n",
       "      <td>127.075409</td>\n",
       "      <td>36.831581</td>\n",
       "      <td>1.0</td>\n",
       "      <td>0.183089</td>\n",
       "      <td>0.901830</td>\n",
       "      <td>2.379198</td>\n",
       "      <td>0.866326</td>\n",
       "      <td>7/1-2 S</td>\n",
       "      <td>3159.910156</td>\n",
       "    </tr>\n",
       "    <tr>\n",
       "      <th>184717</th>\n",
       "      <td>101.990501</td>\n",
       "      <td>127.065430</td>\n",
       "      <td>41.760101</td>\n",
       "      <td>1.0</td>\n",
       "      <td>0.175724</td>\n",
       "      <td>0.919743</td>\n",
       "      <td>2.360352</td>\n",
       "      <td>0.888828</td>\n",
       "      <td>7/1-2 S</td>\n",
       "      <td>3160.062500</td>\n",
       "    </tr>\n",
       "    <tr>\n",
       "      <th>184718</th>\n",
       "      <td>98.657799</td>\n",
       "      <td>126.993614</td>\n",
       "      <td>37.401623</td>\n",
       "      <td>1.0</td>\n",
       "      <td>0.188080</td>\n",
       "      <td>0.903227</td>\n",
       "      <td>2.333034</td>\n",
       "      <td>0.879016</td>\n",
       "      <td>7/1-2 S</td>\n",
       "      <td>3160.215088</td>\n",
       "    </tr>\n",
       "  </tbody>\n",
       "</table>\n",
       "<p>184719 rows × 10 columns</p>\n",
       "</div>"
      ],
      "text/plain": [
       "               DTC         DTS          GR  LITHOLOGY_GEOLINK      NPHI  \\\n",
       "0       115.693207  267.867310   96.910202                6.0  0.391600   \n",
       "1       115.910004  272.334198  108.976501                6.0  0.391100   \n",
       "2       116.315399  280.204407  126.231796                6.0  0.407800   \n",
       "3       117.308701  283.573303  149.429504                6.0  0.407700   \n",
       "4       120.262398  290.746399  163.915497                6.0  0.426000   \n",
       "...            ...         ...         ...                ...       ...   \n",
       "184714  102.518501  127.078522   30.631025                1.0  0.166493   \n",
       "184715  102.657097  127.074806   32.643269                1.0  0.176284   \n",
       "184716  102.701103  127.075409   36.831581                1.0  0.183089   \n",
       "184717  101.990501  127.065430   41.760101                1.0  0.175724   \n",
       "184718   98.657799  126.993614   37.401623                1.0  0.188080   \n",
       "\n",
       "            RDEP      RHOB      RMED     WELL        Depth  \n",
       "0       0.709900  2.480200  0.665700  15/9-23  2315.461914  \n",
       "1       0.721212  2.502200  0.669454  15/9-23  2315.614502  \n",
       "2       0.728698  2.473100  0.702844  15/9-23  2315.766846  \n",
       "3       0.727200  2.481300  0.730400  15/9-23  2315.919189  \n",
       "4       0.704400  2.470900  0.677300  15/9-23  2316.071533  \n",
       "...          ...       ...       ...      ...          ...  \n",
       "184714  0.830020  2.334237  0.788812  7/1-2 S  3159.605469  \n",
       "184715  0.858255  2.365948  0.819950  7/1-2 S  3159.757812  \n",
       "184716  0.901830  2.379198  0.866326  7/1-2 S  3159.910156  \n",
       "184717  0.919743  2.360352  0.888828  7/1-2 S  3160.062500  \n",
       "184718  0.903227  2.333034  0.879016  7/1-2 S  3160.215088  \n",
       "\n",
       "[184719 rows x 10 columns]"
      ]
     },
     "execution_count": 4,
     "metadata": {},
     "output_type": "execute_result"
    }
   ],
   "source": [
    "# Import the dataset\n",
    "filename = 'norwegian_dataset.csv'\n",
    "training_data = pd.read_csv(filename, index_col = False)\n",
    "training_data"
   ]
  },
  {
   "cell_type": "code",
   "execution_count": 5,
   "metadata": {},
   "outputs": [
    {
     "data": {
      "text/plain": [
       "array([ 6.,  7.,  5., 19., 16.,  4.,  2.,  1., 11., 12., 13., 18.,  3.,\n",
       "       10.,  9., 15., 17., 22.])"
      ]
     },
     "execution_count": 5,
     "metadata": {},
     "output_type": "execute_result"
    }
   ],
   "source": [
    "training_data['LITHOLOGY_GEOLINK'].unique()"
   ]
  },
  {
   "cell_type": "code",
   "execution_count": 6,
   "metadata": {},
   "outputs": [
    {
     "data": {
      "text/html": [
       "<div>\n",
       "<style scoped>\n",
       "    .dataframe tbody tr th:only-of-type {\n",
       "        vertical-align: middle;\n",
       "    }\n",
       "\n",
       "    .dataframe tbody tr th {\n",
       "        vertical-align: top;\n",
       "    }\n",
       "\n",
       "    .dataframe thead th {\n",
       "        text-align: right;\n",
       "    }\n",
       "</style>\n",
       "<table border=\"1\" class=\"dataframe\">\n",
       "  <thead>\n",
       "    <tr style=\"text-align: right;\">\n",
       "      <th></th>\n",
       "      <th>DTC</th>\n",
       "      <th>DTS</th>\n",
       "      <th>GR</th>\n",
       "      <th>LITHOLOGY_GEOLINK</th>\n",
       "      <th>NPHI</th>\n",
       "      <th>RDEP</th>\n",
       "      <th>RHOB</th>\n",
       "      <th>RMED</th>\n",
       "      <th>WELL</th>\n",
       "      <th>Depth</th>\n",
       "    </tr>\n",
       "  </thead>\n",
       "  <tbody>\n",
       "    <tr>\n",
       "      <th>0</th>\n",
       "      <td>115.693207</td>\n",
       "      <td>267.867310</td>\n",
       "      <td>96.910202</td>\n",
       "      <td>6.0</td>\n",
       "      <td>0.391600</td>\n",
       "      <td>0.709900</td>\n",
       "      <td>2.480200</td>\n",
       "      <td>0.665700</td>\n",
       "      <td>15/9-23</td>\n",
       "      <td>2315.461914</td>\n",
       "    </tr>\n",
       "    <tr>\n",
       "      <th>1</th>\n",
       "      <td>115.910004</td>\n",
       "      <td>272.334198</td>\n",
       "      <td>108.976501</td>\n",
       "      <td>6.0</td>\n",
       "      <td>0.391100</td>\n",
       "      <td>0.721212</td>\n",
       "      <td>2.502200</td>\n",
       "      <td>0.669454</td>\n",
       "      <td>15/9-23</td>\n",
       "      <td>2315.614502</td>\n",
       "    </tr>\n",
       "    <tr>\n",
       "      <th>2</th>\n",
       "      <td>116.315399</td>\n",
       "      <td>280.204407</td>\n",
       "      <td>126.231796</td>\n",
       "      <td>6.0</td>\n",
       "      <td>0.407800</td>\n",
       "      <td>0.728698</td>\n",
       "      <td>2.473100</td>\n",
       "      <td>0.702844</td>\n",
       "      <td>15/9-23</td>\n",
       "      <td>2315.766846</td>\n",
       "    </tr>\n",
       "    <tr>\n",
       "      <th>3</th>\n",
       "      <td>117.308701</td>\n",
       "      <td>283.573303</td>\n",
       "      <td>149.429504</td>\n",
       "      <td>6.0</td>\n",
       "      <td>0.407700</td>\n",
       "      <td>0.727200</td>\n",
       "      <td>2.481300</td>\n",
       "      <td>0.730400</td>\n",
       "      <td>15/9-23</td>\n",
       "      <td>2315.919189</td>\n",
       "    </tr>\n",
       "    <tr>\n",
       "      <th>4</th>\n",
       "      <td>120.262398</td>\n",
       "      <td>290.746399</td>\n",
       "      <td>163.915497</td>\n",
       "      <td>6.0</td>\n",
       "      <td>0.426000</td>\n",
       "      <td>0.704400</td>\n",
       "      <td>2.470900</td>\n",
       "      <td>0.677300</td>\n",
       "      <td>15/9-23</td>\n",
       "      <td>2316.071533</td>\n",
       "    </tr>\n",
       "    <tr>\n",
       "      <th>...</th>\n",
       "      <td>...</td>\n",
       "      <td>...</td>\n",
       "      <td>...</td>\n",
       "      <td>...</td>\n",
       "      <td>...</td>\n",
       "      <td>...</td>\n",
       "      <td>...</td>\n",
       "      <td>...</td>\n",
       "      <td>...</td>\n",
       "      <td>...</td>\n",
       "    </tr>\n",
       "    <tr>\n",
       "      <th>184714</th>\n",
       "      <td>102.518501</td>\n",
       "      <td>127.078522</td>\n",
       "      <td>30.631025</td>\n",
       "      <td>1.0</td>\n",
       "      <td>0.166493</td>\n",
       "      <td>0.830020</td>\n",
       "      <td>2.334237</td>\n",
       "      <td>0.788812</td>\n",
       "      <td>7/1-2 S</td>\n",
       "      <td>3159.605469</td>\n",
       "    </tr>\n",
       "    <tr>\n",
       "      <th>184715</th>\n",
       "      <td>102.657097</td>\n",
       "      <td>127.074806</td>\n",
       "      <td>32.643269</td>\n",
       "      <td>1.0</td>\n",
       "      <td>0.176284</td>\n",
       "      <td>0.858255</td>\n",
       "      <td>2.365948</td>\n",
       "      <td>0.819950</td>\n",
       "      <td>7/1-2 S</td>\n",
       "      <td>3159.757812</td>\n",
       "    </tr>\n",
       "    <tr>\n",
       "      <th>184716</th>\n",
       "      <td>102.701103</td>\n",
       "      <td>127.075409</td>\n",
       "      <td>36.831581</td>\n",
       "      <td>1.0</td>\n",
       "      <td>0.183089</td>\n",
       "      <td>0.901830</td>\n",
       "      <td>2.379198</td>\n",
       "      <td>0.866326</td>\n",
       "      <td>7/1-2 S</td>\n",
       "      <td>3159.910156</td>\n",
       "    </tr>\n",
       "    <tr>\n",
       "      <th>184717</th>\n",
       "      <td>101.990501</td>\n",
       "      <td>127.065430</td>\n",
       "      <td>41.760101</td>\n",
       "      <td>1.0</td>\n",
       "      <td>0.175724</td>\n",
       "      <td>0.919743</td>\n",
       "      <td>2.360352</td>\n",
       "      <td>0.888828</td>\n",
       "      <td>7/1-2 S</td>\n",
       "      <td>3160.062500</td>\n",
       "    </tr>\n",
       "    <tr>\n",
       "      <th>184718</th>\n",
       "      <td>98.657799</td>\n",
       "      <td>126.993614</td>\n",
       "      <td>37.401623</td>\n",
       "      <td>1.0</td>\n",
       "      <td>0.188080</td>\n",
       "      <td>0.903227</td>\n",
       "      <td>2.333034</td>\n",
       "      <td>0.879016</td>\n",
       "      <td>7/1-2 S</td>\n",
       "      <td>3160.215088</td>\n",
       "    </tr>\n",
       "  </tbody>\n",
       "</table>\n",
       "<p>184719 rows × 10 columns</p>\n",
       "</div>"
      ],
      "text/plain": [
       "               DTC         DTS          GR  LITHOLOGY_GEOLINK      NPHI  \\\n",
       "0       115.693207  267.867310   96.910202                6.0  0.391600   \n",
       "1       115.910004  272.334198  108.976501                6.0  0.391100   \n",
       "2       116.315399  280.204407  126.231796                6.0  0.407800   \n",
       "3       117.308701  283.573303  149.429504                6.0  0.407700   \n",
       "4       120.262398  290.746399  163.915497                6.0  0.426000   \n",
       "...            ...         ...         ...                ...       ...   \n",
       "184714  102.518501  127.078522   30.631025                1.0  0.166493   \n",
       "184715  102.657097  127.074806   32.643269                1.0  0.176284   \n",
       "184716  102.701103  127.075409   36.831581                1.0  0.183089   \n",
       "184717  101.990501  127.065430   41.760101                1.0  0.175724   \n",
       "184718   98.657799  126.993614   37.401623                1.0  0.188080   \n",
       "\n",
       "            RDEP      RHOB      RMED     WELL        Depth  \n",
       "0       0.709900  2.480200  0.665700  15/9-23  2315.461914  \n",
       "1       0.721212  2.502200  0.669454  15/9-23  2315.614502  \n",
       "2       0.728698  2.473100  0.702844  15/9-23  2315.766846  \n",
       "3       0.727200  2.481300  0.730400  15/9-23  2315.919189  \n",
       "4       0.704400  2.470900  0.677300  15/9-23  2316.071533  \n",
       "...          ...       ...       ...      ...          ...  \n",
       "184714  0.830020  2.334237  0.788812  7/1-2 S  3159.605469  \n",
       "184715  0.858255  2.365948  0.819950  7/1-2 S  3159.757812  \n",
       "184716  0.901830  2.379198  0.866326  7/1-2 S  3159.910156  \n",
       "184717  0.919743  2.360352  0.888828  7/1-2 S  3160.062500  \n",
       "184718  0.903227  2.333034  0.879016  7/1-2 S  3160.215088  \n",
       "\n",
       "[184719 rows x 10 columns]"
      ]
     },
     "execution_count": 6,
     "metadata": {},
     "output_type": "execute_result"
    }
   ],
   "source": [
    "df = training_data\n",
    "df.loc[df[\"LITHOLOGY_GEOLINK\"] == 9, \"LITHOLOGY_GEOLINK\"]  = 8\n",
    "df.loc[df[\"LITHOLOGY_GEOLINK\"] == 10, \"LITHOLOGY_GEOLINK\"] = 9\n",
    "df.loc[df[\"LITHOLOGY_GEOLINK\"] == 11, \"LITHOLOGY_GEOLINK\"]  = 10\n",
    "df.loc[df[\"LITHOLOGY_GEOLINK\"] == 12, \"LITHOLOGY_GEOLINK\"] = 11\n",
    "df.loc[df[\"LITHOLOGY_GEOLINK\"] == 13, \"LITHOLOGY_GEOLINK\"] = 12\n",
    "df.loc[df[\"LITHOLOGY_GEOLINK\"] == 15, \"LITHOLOGY_GEOLINK\"] = 13\n",
    "df.loc[df[\"LITHOLOGY_GEOLINK\"] == 16, \"LITHOLOGY_GEOLINK\"] = 14\n",
    "df.loc[df[\"LITHOLOGY_GEOLINK\"] == 17, \"LITHOLOGY_GEOLINK\"] = 15\n",
    "df.loc[df[\"LITHOLOGY_GEOLINK\"] == 18, \"LITHOLOGY_GEOLINK\"] = 16\n",
    "df.loc[df[\"LITHOLOGY_GEOLINK\"] == 19, \"LITHOLOGY_GEOLINK\"] = 17\n",
    "df.loc[df[\"LITHOLOGY_GEOLINK\"] == 22, \"LITHOLOGY_GEOLINK\"] = 18\n",
    "training_data = df\n",
    "training_data"
   ]
  },
  {
   "cell_type": "code",
   "execution_count": 7,
   "metadata": {},
   "outputs": [
    {
     "data": {
      "text/plain": [
       "array([ 6.,  7.,  5., 17., 14.,  4.,  2.,  1., 10., 11., 12., 16.,  3.,\n",
       "        9.,  8., 13., 15., 18.])"
      ]
     },
     "execution_count": 7,
     "metadata": {},
     "output_type": "execute_result"
    }
   ],
   "source": [
    "training_data['LITHOLOGY_GEOLINK'].unique()"
   ]
  },
  {
   "cell_type": "code",
   "execution_count": 8,
   "metadata": {},
   "outputs": [],
   "source": [
    "training_data['LITHOLOGY_GEOLINK'] = training_data['LITHOLOGY_GEOLINK'].astype(int)"
   ]
  },
  {
   "cell_type": "code",
   "execution_count": 9,
   "metadata": {},
   "outputs": [
    {
     "data": {
      "text/html": [
       "<div>\n",
       "<style scoped>\n",
       "    .dataframe tbody tr th:only-of-type {\n",
       "        vertical-align: middle;\n",
       "    }\n",
       "\n",
       "    .dataframe tbody tr th {\n",
       "        vertical-align: top;\n",
       "    }\n",
       "\n",
       "    .dataframe thead th {\n",
       "        text-align: right;\n",
       "    }\n",
       "</style>\n",
       "<table border=\"1\" class=\"dataframe\">\n",
       "  <thead>\n",
       "    <tr style=\"text-align: right;\">\n",
       "      <th></th>\n",
       "      <th>DTC</th>\n",
       "      <th>DTS</th>\n",
       "      <th>GR</th>\n",
       "      <th>LITHOLOGY_GEOLINK</th>\n",
       "      <th>NPHI</th>\n",
       "      <th>RDEP</th>\n",
       "      <th>RHOB</th>\n",
       "      <th>RMED</th>\n",
       "      <th>WELL</th>\n",
       "      <th>Depth</th>\n",
       "    </tr>\n",
       "  </thead>\n",
       "  <tbody>\n",
       "    <tr>\n",
       "      <th>0</th>\n",
       "      <td>115.693207</td>\n",
       "      <td>267.867310</td>\n",
       "      <td>96.910202</td>\n",
       "      <td>6</td>\n",
       "      <td>0.391600</td>\n",
       "      <td>0.709900</td>\n",
       "      <td>2.480200</td>\n",
       "      <td>0.665700</td>\n",
       "      <td>15/9-23</td>\n",
       "      <td>2315.461914</td>\n",
       "    </tr>\n",
       "    <tr>\n",
       "      <th>1</th>\n",
       "      <td>115.910004</td>\n",
       "      <td>272.334198</td>\n",
       "      <td>108.976501</td>\n",
       "      <td>6</td>\n",
       "      <td>0.391100</td>\n",
       "      <td>0.721212</td>\n",
       "      <td>2.502200</td>\n",
       "      <td>0.669454</td>\n",
       "      <td>15/9-23</td>\n",
       "      <td>2315.614502</td>\n",
       "    </tr>\n",
       "    <tr>\n",
       "      <th>2</th>\n",
       "      <td>116.315399</td>\n",
       "      <td>280.204407</td>\n",
       "      <td>126.231796</td>\n",
       "      <td>6</td>\n",
       "      <td>0.407800</td>\n",
       "      <td>0.728698</td>\n",
       "      <td>2.473100</td>\n",
       "      <td>0.702844</td>\n",
       "      <td>15/9-23</td>\n",
       "      <td>2315.766846</td>\n",
       "    </tr>\n",
       "    <tr>\n",
       "      <th>3</th>\n",
       "      <td>117.308701</td>\n",
       "      <td>283.573303</td>\n",
       "      <td>149.429504</td>\n",
       "      <td>6</td>\n",
       "      <td>0.407700</td>\n",
       "      <td>0.727200</td>\n",
       "      <td>2.481300</td>\n",
       "      <td>0.730400</td>\n",
       "      <td>15/9-23</td>\n",
       "      <td>2315.919189</td>\n",
       "    </tr>\n",
       "    <tr>\n",
       "      <th>4</th>\n",
       "      <td>120.262398</td>\n",
       "      <td>290.746399</td>\n",
       "      <td>163.915497</td>\n",
       "      <td>6</td>\n",
       "      <td>0.426000</td>\n",
       "      <td>0.704400</td>\n",
       "      <td>2.470900</td>\n",
       "      <td>0.677300</td>\n",
       "      <td>15/9-23</td>\n",
       "      <td>2316.071533</td>\n",
       "    </tr>\n",
       "    <tr>\n",
       "      <th>...</th>\n",
       "      <td>...</td>\n",
       "      <td>...</td>\n",
       "      <td>...</td>\n",
       "      <td>...</td>\n",
       "      <td>...</td>\n",
       "      <td>...</td>\n",
       "      <td>...</td>\n",
       "      <td>...</td>\n",
       "      <td>...</td>\n",
       "      <td>...</td>\n",
       "    </tr>\n",
       "    <tr>\n",
       "      <th>184714</th>\n",
       "      <td>102.518501</td>\n",
       "      <td>127.078522</td>\n",
       "      <td>30.631025</td>\n",
       "      <td>1</td>\n",
       "      <td>0.166493</td>\n",
       "      <td>0.830020</td>\n",
       "      <td>2.334237</td>\n",
       "      <td>0.788812</td>\n",
       "      <td>7/1-2 S</td>\n",
       "      <td>3159.605469</td>\n",
       "    </tr>\n",
       "    <tr>\n",
       "      <th>184715</th>\n",
       "      <td>102.657097</td>\n",
       "      <td>127.074806</td>\n",
       "      <td>32.643269</td>\n",
       "      <td>1</td>\n",
       "      <td>0.176284</td>\n",
       "      <td>0.858255</td>\n",
       "      <td>2.365948</td>\n",
       "      <td>0.819950</td>\n",
       "      <td>7/1-2 S</td>\n",
       "      <td>3159.757812</td>\n",
       "    </tr>\n",
       "    <tr>\n",
       "      <th>184716</th>\n",
       "      <td>102.701103</td>\n",
       "      <td>127.075409</td>\n",
       "      <td>36.831581</td>\n",
       "      <td>1</td>\n",
       "      <td>0.183089</td>\n",
       "      <td>0.901830</td>\n",
       "      <td>2.379198</td>\n",
       "      <td>0.866326</td>\n",
       "      <td>7/1-2 S</td>\n",
       "      <td>3159.910156</td>\n",
       "    </tr>\n",
       "    <tr>\n",
       "      <th>184717</th>\n",
       "      <td>101.990501</td>\n",
       "      <td>127.065430</td>\n",
       "      <td>41.760101</td>\n",
       "      <td>1</td>\n",
       "      <td>0.175724</td>\n",
       "      <td>0.919743</td>\n",
       "      <td>2.360352</td>\n",
       "      <td>0.888828</td>\n",
       "      <td>7/1-2 S</td>\n",
       "      <td>3160.062500</td>\n",
       "    </tr>\n",
       "    <tr>\n",
       "      <th>184718</th>\n",
       "      <td>98.657799</td>\n",
       "      <td>126.993614</td>\n",
       "      <td>37.401623</td>\n",
       "      <td>1</td>\n",
       "      <td>0.188080</td>\n",
       "      <td>0.903227</td>\n",
       "      <td>2.333034</td>\n",
       "      <td>0.879016</td>\n",
       "      <td>7/1-2 S</td>\n",
       "      <td>3160.215088</td>\n",
       "    </tr>\n",
       "  </tbody>\n",
       "</table>\n",
       "<p>184719 rows × 10 columns</p>\n",
       "</div>"
      ],
      "text/plain": [
       "               DTC         DTS          GR  LITHOLOGY_GEOLINK      NPHI  \\\n",
       "0       115.693207  267.867310   96.910202                  6  0.391600   \n",
       "1       115.910004  272.334198  108.976501                  6  0.391100   \n",
       "2       116.315399  280.204407  126.231796                  6  0.407800   \n",
       "3       117.308701  283.573303  149.429504                  6  0.407700   \n",
       "4       120.262398  290.746399  163.915497                  6  0.426000   \n",
       "...            ...         ...         ...                ...       ...   \n",
       "184714  102.518501  127.078522   30.631025                  1  0.166493   \n",
       "184715  102.657097  127.074806   32.643269                  1  0.176284   \n",
       "184716  102.701103  127.075409   36.831581                  1  0.183089   \n",
       "184717  101.990501  127.065430   41.760101                  1  0.175724   \n",
       "184718   98.657799  126.993614   37.401623                  1  0.188080   \n",
       "\n",
       "            RDEP      RHOB      RMED     WELL        Depth  \n",
       "0       0.709900  2.480200  0.665700  15/9-23  2315.461914  \n",
       "1       0.721212  2.502200  0.669454  15/9-23  2315.614502  \n",
       "2       0.728698  2.473100  0.702844  15/9-23  2315.766846  \n",
       "3       0.727200  2.481300  0.730400  15/9-23  2315.919189  \n",
       "4       0.704400  2.470900  0.677300  15/9-23  2316.071533  \n",
       "...          ...       ...       ...      ...          ...  \n",
       "184714  0.830020  2.334237  0.788812  7/1-2 S  3159.605469  \n",
       "184715  0.858255  2.365948  0.819950  7/1-2 S  3159.757812  \n",
       "184716  0.901830  2.379198  0.866326  7/1-2 S  3159.910156  \n",
       "184717  0.919743  2.360352  0.888828  7/1-2 S  3160.062500  \n",
       "184718  0.903227  2.333034  0.879016  7/1-2 S  3160.215088  \n",
       "\n",
       "[184719 rows x 10 columns]"
      ]
     },
     "execution_count": 9,
     "metadata": {},
     "output_type": "execute_result"
    }
   ],
   "source": [
    "training_data"
   ]
  },
  {
   "cell_type": "code",
   "execution_count": 10,
   "metadata": {},
   "outputs": [
    {
     "data": {
      "text/html": [
       "<div>\n",
       "<style scoped>\n",
       "    .dataframe tbody tr th:only-of-type {\n",
       "        vertical-align: middle;\n",
       "    }\n",
       "\n",
       "    .dataframe tbody tr th {\n",
       "        vertical-align: top;\n",
       "    }\n",
       "\n",
       "    .dataframe thead th {\n",
       "        text-align: right;\n",
       "    }\n",
       "</style>\n",
       "<table border=\"1\" class=\"dataframe\">\n",
       "  <thead>\n",
       "    <tr style=\"text-align: right;\">\n",
       "      <th></th>\n",
       "      <th>DTC</th>\n",
       "      <th>DTS</th>\n",
       "      <th>GR</th>\n",
       "      <th>LITHOLOGY_GEOLINK</th>\n",
       "      <th>NPHI</th>\n",
       "      <th>RDEP</th>\n",
       "      <th>RHOB</th>\n",
       "      <th>RMED</th>\n",
       "      <th>WELL</th>\n",
       "      <th>Depth</th>\n",
       "    </tr>\n",
       "  </thead>\n",
       "  <tbody>\n",
       "    <tr>\n",
       "      <th>0</th>\n",
       "      <td>115.693207</td>\n",
       "      <td>267.867310</td>\n",
       "      <td>96.910202</td>\n",
       "      <td>6</td>\n",
       "      <td>0.391600</td>\n",
       "      <td>-0.148803</td>\n",
       "      <td>2.480200</td>\n",
       "      <td>-0.176721</td>\n",
       "      <td>15/9-23</td>\n",
       "      <td>2315.461914</td>\n",
       "    </tr>\n",
       "    <tr>\n",
       "      <th>1</th>\n",
       "      <td>115.910004</td>\n",
       "      <td>272.334198</td>\n",
       "      <td>108.976501</td>\n",
       "      <td>6</td>\n",
       "      <td>0.391100</td>\n",
       "      <td>-0.141937</td>\n",
       "      <td>2.502200</td>\n",
       "      <td>-0.174280</td>\n",
       "      <td>15/9-23</td>\n",
       "      <td>2315.614502</td>\n",
       "    </tr>\n",
       "    <tr>\n",
       "      <th>2</th>\n",
       "      <td>116.315399</td>\n",
       "      <td>280.204407</td>\n",
       "      <td>126.231796</td>\n",
       "      <td>6</td>\n",
       "      <td>0.407800</td>\n",
       "      <td>-0.137453</td>\n",
       "      <td>2.473100</td>\n",
       "      <td>-0.153141</td>\n",
       "      <td>15/9-23</td>\n",
       "      <td>2315.766846</td>\n",
       "    </tr>\n",
       "    <tr>\n",
       "      <th>3</th>\n",
       "      <td>117.308701</td>\n",
       "      <td>283.573303</td>\n",
       "      <td>149.429504</td>\n",
       "      <td>6</td>\n",
       "      <td>0.407700</td>\n",
       "      <td>-0.138346</td>\n",
       "      <td>2.481300</td>\n",
       "      <td>-0.136439</td>\n",
       "      <td>15/9-23</td>\n",
       "      <td>2315.919189</td>\n",
       "    </tr>\n",
       "    <tr>\n",
       "      <th>4</th>\n",
       "      <td>120.262398</td>\n",
       "      <td>290.746399</td>\n",
       "      <td>163.915497</td>\n",
       "      <td>6</td>\n",
       "      <td>0.426000</td>\n",
       "      <td>-0.152181</td>\n",
       "      <td>2.470900</td>\n",
       "      <td>-0.169219</td>\n",
       "      <td>15/9-23</td>\n",
       "      <td>2316.071533</td>\n",
       "    </tr>\n",
       "    <tr>\n",
       "      <th>...</th>\n",
       "      <td>...</td>\n",
       "      <td>...</td>\n",
       "      <td>...</td>\n",
       "      <td>...</td>\n",
       "      <td>...</td>\n",
       "      <td>...</td>\n",
       "      <td>...</td>\n",
       "      <td>...</td>\n",
       "      <td>...</td>\n",
       "      <td>...</td>\n",
       "    </tr>\n",
       "    <tr>\n",
       "      <th>184714</th>\n",
       "      <td>102.518501</td>\n",
       "      <td>127.078522</td>\n",
       "      <td>30.631025</td>\n",
       "      <td>1</td>\n",
       "      <td>0.166493</td>\n",
       "      <td>-0.080911</td>\n",
       "      <td>2.334237</td>\n",
       "      <td>-0.103026</td>\n",
       "      <td>7/1-2 S</td>\n",
       "      <td>3159.605469</td>\n",
       "    </tr>\n",
       "    <tr>\n",
       "      <th>184715</th>\n",
       "      <td>102.657097</td>\n",
       "      <td>127.074806</td>\n",
       "      <td>32.643269</td>\n",
       "      <td>1</td>\n",
       "      <td>0.176284</td>\n",
       "      <td>-0.066384</td>\n",
       "      <td>2.365948</td>\n",
       "      <td>-0.086213</td>\n",
       "      <td>7/1-2 S</td>\n",
       "      <td>3159.757812</td>\n",
       "    </tr>\n",
       "    <tr>\n",
       "      <th>184716</th>\n",
       "      <td>102.701103</td>\n",
       "      <td>127.075409</td>\n",
       "      <td>36.831581</td>\n",
       "      <td>1</td>\n",
       "      <td>0.183089</td>\n",
       "      <td>-0.044875</td>\n",
       "      <td>2.379198</td>\n",
       "      <td>-0.062319</td>\n",
       "      <td>7/1-2 S</td>\n",
       "      <td>3159.910156</td>\n",
       "    </tr>\n",
       "    <tr>\n",
       "      <th>184717</th>\n",
       "      <td>101.990501</td>\n",
       "      <td>127.065430</td>\n",
       "      <td>41.760101</td>\n",
       "      <td>1</td>\n",
       "      <td>0.175724</td>\n",
       "      <td>-0.036334</td>\n",
       "      <td>2.360352</td>\n",
       "      <td>-0.051182</td>\n",
       "      <td>7/1-2 S</td>\n",
       "      <td>3160.062500</td>\n",
       "    </tr>\n",
       "    <tr>\n",
       "      <th>184718</th>\n",
       "      <td>98.657799</td>\n",
       "      <td>126.993614</td>\n",
       "      <td>37.401623</td>\n",
       "      <td>1</td>\n",
       "      <td>0.188080</td>\n",
       "      <td>-0.044203</td>\n",
       "      <td>2.333034</td>\n",
       "      <td>-0.056003</td>\n",
       "      <td>7/1-2 S</td>\n",
       "      <td>3160.215088</td>\n",
       "    </tr>\n",
       "  </tbody>\n",
       "</table>\n",
       "<p>184719 rows × 10 columns</p>\n",
       "</div>"
      ],
      "text/plain": [
       "               DTC         DTS          GR  LITHOLOGY_GEOLINK      NPHI  \\\n",
       "0       115.693207  267.867310   96.910202                  6  0.391600   \n",
       "1       115.910004  272.334198  108.976501                  6  0.391100   \n",
       "2       116.315399  280.204407  126.231796                  6  0.407800   \n",
       "3       117.308701  283.573303  149.429504                  6  0.407700   \n",
       "4       120.262398  290.746399  163.915497                  6  0.426000   \n",
       "...            ...         ...         ...                ...       ...   \n",
       "184714  102.518501  127.078522   30.631025                  1  0.166493   \n",
       "184715  102.657097  127.074806   32.643269                  1  0.176284   \n",
       "184716  102.701103  127.075409   36.831581                  1  0.183089   \n",
       "184717  101.990501  127.065430   41.760101                  1  0.175724   \n",
       "184718   98.657799  126.993614   37.401623                  1  0.188080   \n",
       "\n",
       "            RDEP      RHOB      RMED     WELL        Depth  \n",
       "0      -0.148803  2.480200 -0.176721  15/9-23  2315.461914  \n",
       "1      -0.141937  2.502200 -0.174280  15/9-23  2315.614502  \n",
       "2      -0.137453  2.473100 -0.153141  15/9-23  2315.766846  \n",
       "3      -0.138346  2.481300 -0.136439  15/9-23  2315.919189  \n",
       "4      -0.152181  2.470900 -0.169219  15/9-23  2316.071533  \n",
       "...          ...       ...       ...      ...          ...  \n",
       "184714 -0.080911  2.334237 -0.103026  7/1-2 S  3159.605469  \n",
       "184715 -0.066384  2.365948 -0.086213  7/1-2 S  3159.757812  \n",
       "184716 -0.044875  2.379198 -0.062319  7/1-2 S  3159.910156  \n",
       "184717 -0.036334  2.360352 -0.051182  7/1-2 S  3160.062500  \n",
       "184718 -0.044203  2.333034 -0.056003  7/1-2 S  3160.215088  \n",
       "\n",
       "[184719 rows x 10 columns]"
      ]
     },
     "execution_count": 10,
     "metadata": {},
     "output_type": "execute_result"
    }
   ],
   "source": [
    "# Convert the deep and medium resistivity to be in a form of Log based 10.\n",
    "training_data[\"RDEP\"] = np.log10(training_data[\"RDEP\"])\n",
    "training_data[\"RMED\"] = np.log10(training_data[\"RMED\"])\n",
    "training_data"
   ]
  },
  {
   "cell_type": "code",
   "execution_count": 11,
   "metadata": {},
   "outputs": [
    {
     "data": {
      "text/html": [
       "<div>\n",
       "<style scoped>\n",
       "    .dataframe tbody tr th:only-of-type {\n",
       "        vertical-align: middle;\n",
       "    }\n",
       "\n",
       "    .dataframe tbody tr th {\n",
       "        vertical-align: top;\n",
       "    }\n",
       "\n",
       "    .dataframe thead th {\n",
       "        text-align: right;\n",
       "    }\n",
       "</style>\n",
       "<table border=\"1\" class=\"dataframe\">\n",
       "  <thead>\n",
       "    <tr style=\"text-align: right;\">\n",
       "      <th></th>\n",
       "      <th>Vp</th>\n",
       "      <th>Vs</th>\n",
       "      <th>GR</th>\n",
       "      <th>LITHOLOGY_GEOLINK</th>\n",
       "      <th>NPHI</th>\n",
       "      <th>RDEP</th>\n",
       "      <th>RHOB</th>\n",
       "      <th>RMED</th>\n",
       "      <th>WELL</th>\n",
       "      <th>Depth</th>\n",
       "    </tr>\n",
       "  </thead>\n",
       "  <tbody>\n",
       "    <tr>\n",
       "      <th>0</th>\n",
       "      <td>864.354985</td>\n",
       "      <td>373.319164</td>\n",
       "      <td>96.910202</td>\n",
       "      <td>6</td>\n",
       "      <td>0.391600</td>\n",
       "      <td>-0.148803</td>\n",
       "      <td>2.480200</td>\n",
       "      <td>-0.176721</td>\n",
       "      <td>15/9-23</td>\n",
       "      <td>2315.461914</td>\n",
       "    </tr>\n",
       "    <tr>\n",
       "      <th>1</th>\n",
       "      <td>862.738304</td>\n",
       "      <td>367.195897</td>\n",
       "      <td>108.976501</td>\n",
       "      <td>6</td>\n",
       "      <td>0.391100</td>\n",
       "      <td>-0.141937</td>\n",
       "      <td>2.502200</td>\n",
       "      <td>-0.174280</td>\n",
       "      <td>15/9-23</td>\n",
       "      <td>2315.614502</td>\n",
       "    </tr>\n",
       "    <tr>\n",
       "      <th>2</th>\n",
       "      <td>859.731392</td>\n",
       "      <td>356.882324</td>\n",
       "      <td>126.231796</td>\n",
       "      <td>6</td>\n",
       "      <td>0.407800</td>\n",
       "      <td>-0.137453</td>\n",
       "      <td>2.473100</td>\n",
       "      <td>-0.153141</td>\n",
       "      <td>15/9-23</td>\n",
       "      <td>2315.766846</td>\n",
       "    </tr>\n",
       "    <tr>\n",
       "      <th>3</th>\n",
       "      <td>852.451690</td>\n",
       "      <td>352.642505</td>\n",
       "      <td>149.429504</td>\n",
       "      <td>6</td>\n",
       "      <td>0.407700</td>\n",
       "      <td>-0.138346</td>\n",
       "      <td>2.481300</td>\n",
       "      <td>-0.136439</td>\n",
       "      <td>15/9-23</td>\n",
       "      <td>2315.919189</td>\n",
       "    </tr>\n",
       "    <tr>\n",
       "      <th>4</th>\n",
       "      <td>831.515102</td>\n",
       "      <td>343.942351</td>\n",
       "      <td>163.915497</td>\n",
       "      <td>6</td>\n",
       "      <td>0.426000</td>\n",
       "      <td>-0.152181</td>\n",
       "      <td>2.470900</td>\n",
       "      <td>-0.169219</td>\n",
       "      <td>15/9-23</td>\n",
       "      <td>2316.071533</td>\n",
       "    </tr>\n",
       "    <tr>\n",
       "      <th>...</th>\n",
       "      <td>...</td>\n",
       "      <td>...</td>\n",
       "      <td>...</td>\n",
       "      <td>...</td>\n",
       "      <td>...</td>\n",
       "      <td>...</td>\n",
       "      <td>...</td>\n",
       "      <td>...</td>\n",
       "      <td>...</td>\n",
       "      <td>...</td>\n",
       "    </tr>\n",
       "    <tr>\n",
       "      <th>184714</th>\n",
       "      <td>975.433690</td>\n",
       "      <td>786.915040</td>\n",
       "      <td>30.631025</td>\n",
       "      <td>1</td>\n",
       "      <td>0.166493</td>\n",
       "      <td>-0.080911</td>\n",
       "      <td>2.334237</td>\n",
       "      <td>-0.103026</td>\n",
       "      <td>7/1-2 S</td>\n",
       "      <td>3159.605469</td>\n",
       "    </tr>\n",
       "    <tr>\n",
       "      <th>184715</th>\n",
       "      <td>974.116774</td>\n",
       "      <td>786.938048</td>\n",
       "      <td>32.643269</td>\n",
       "      <td>1</td>\n",
       "      <td>0.176284</td>\n",
       "      <td>-0.066384</td>\n",
       "      <td>2.365948</td>\n",
       "      <td>-0.086213</td>\n",
       "      <td>7/1-2 S</td>\n",
       "      <td>3159.757812</td>\n",
       "    </tr>\n",
       "    <tr>\n",
       "      <th>184716</th>\n",
       "      <td>973.699375</td>\n",
       "      <td>786.934316</td>\n",
       "      <td>36.831581</td>\n",
       "      <td>1</td>\n",
       "      <td>0.183089</td>\n",
       "      <td>-0.044875</td>\n",
       "      <td>2.379198</td>\n",
       "      <td>-0.062319</td>\n",
       "      <td>7/1-2 S</td>\n",
       "      <td>3159.910156</td>\n",
       "    </tr>\n",
       "    <tr>\n",
       "      <th>184717</th>\n",
       "      <td>980.483463</td>\n",
       "      <td>786.996119</td>\n",
       "      <td>41.760101</td>\n",
       "      <td>1</td>\n",
       "      <td>0.175724</td>\n",
       "      <td>-0.036334</td>\n",
       "      <td>2.360352</td>\n",
       "      <td>-0.051182</td>\n",
       "      <td>7/1-2 S</td>\n",
       "      <td>3160.062500</td>\n",
       "    </tr>\n",
       "    <tr>\n",
       "      <th>184718</th>\n",
       "      <td>1013.604614</td>\n",
       "      <td>787.441169</td>\n",
       "      <td>37.401623</td>\n",
       "      <td>1</td>\n",
       "      <td>0.188080</td>\n",
       "      <td>-0.044203</td>\n",
       "      <td>2.333034</td>\n",
       "      <td>-0.056003</td>\n",
       "      <td>7/1-2 S</td>\n",
       "      <td>3160.215088</td>\n",
       "    </tr>\n",
       "  </tbody>\n",
       "</table>\n",
       "<p>184719 rows × 10 columns</p>\n",
       "</div>"
      ],
      "text/plain": [
       "                 Vp          Vs          GR  LITHOLOGY_GEOLINK      NPHI  \\\n",
       "0        864.354985  373.319164   96.910202                  6  0.391600   \n",
       "1        862.738304  367.195897  108.976501                  6  0.391100   \n",
       "2        859.731392  356.882324  126.231796                  6  0.407800   \n",
       "3        852.451690  352.642505  149.429504                  6  0.407700   \n",
       "4        831.515102  343.942351  163.915497                  6  0.426000   \n",
       "...             ...         ...         ...                ...       ...   \n",
       "184714   975.433690  786.915040   30.631025                  1  0.166493   \n",
       "184715   974.116774  786.938048   32.643269                  1  0.176284   \n",
       "184716   973.699375  786.934316   36.831581                  1  0.183089   \n",
       "184717   980.483463  786.996119   41.760101                  1  0.175724   \n",
       "184718  1013.604614  787.441169   37.401623                  1  0.188080   \n",
       "\n",
       "            RDEP      RHOB      RMED     WELL        Depth  \n",
       "0      -0.148803  2.480200 -0.176721  15/9-23  2315.461914  \n",
       "1      -0.141937  2.502200 -0.174280  15/9-23  2315.614502  \n",
       "2      -0.137453  2.473100 -0.153141  15/9-23  2315.766846  \n",
       "3      -0.138346  2.481300 -0.136439  15/9-23  2315.919189  \n",
       "4      -0.152181  2.470900 -0.169219  15/9-23  2316.071533  \n",
       "...          ...       ...       ...      ...          ...  \n",
       "184714 -0.080911  2.334237 -0.103026  7/1-2 S  3159.605469  \n",
       "184715 -0.066384  2.365948 -0.086213  7/1-2 S  3159.757812  \n",
       "184716 -0.044875  2.379198 -0.062319  7/1-2 S  3159.910156  \n",
       "184717 -0.036334  2.360352 -0.051182  7/1-2 S  3160.062500  \n",
       "184718 -0.044203  2.333034 -0.056003  7/1-2 S  3160.215088  \n",
       "\n",
       "[184719 rows x 10 columns]"
      ]
     },
     "execution_count": 11,
     "metadata": {},
     "output_type": "execute_result"
    }
   ],
   "source": [
    "# Convert the compressional and shear sonic logs into P- and S-waves velocities, in m/s\n",
    "training_data['DTC'] = 100000/training_data['DTC']\n",
    "training_data['DTS'] = 100000/training_data['DTS']\n",
    "training_data.rename(columns={\"DTC\": \"Vp\", \"DTS\": \"Vs\"}, inplace = True)\n",
    "training_data"
   ]
  },
  {
   "cell_type": "code",
   "execution_count": 12,
   "metadata": {},
   "outputs": [
    {
     "data": {
      "text/html": [
       "<div>\n",
       "<style scoped>\n",
       "    .dataframe tbody tr th:only-of-type {\n",
       "        vertical-align: middle;\n",
       "    }\n",
       "\n",
       "    .dataframe tbody tr th {\n",
       "        vertical-align: top;\n",
       "    }\n",
       "\n",
       "    .dataframe thead th {\n",
       "        text-align: right;\n",
       "    }\n",
       "</style>\n",
       "<table border=\"1\" class=\"dataframe\">\n",
       "  <thead>\n",
       "    <tr style=\"text-align: right;\">\n",
       "      <th></th>\n",
       "      <th>Vp</th>\n",
       "      <th>Vs</th>\n",
       "      <th>GR</th>\n",
       "      <th>Facies</th>\n",
       "      <th>NPHI</th>\n",
       "      <th>RDEP</th>\n",
       "      <th>RHOB</th>\n",
       "      <th>RMED</th>\n",
       "      <th>WELL</th>\n",
       "      <th>Depth</th>\n",
       "    </tr>\n",
       "  </thead>\n",
       "  <tbody>\n",
       "    <tr>\n",
       "      <th>0</th>\n",
       "      <td>864.354985</td>\n",
       "      <td>373.319164</td>\n",
       "      <td>96.910202</td>\n",
       "      <td>6</td>\n",
       "      <td>0.391600</td>\n",
       "      <td>-0.148803</td>\n",
       "      <td>2.480200</td>\n",
       "      <td>-0.176721</td>\n",
       "      <td>15/9-23</td>\n",
       "      <td>2315.461914</td>\n",
       "    </tr>\n",
       "    <tr>\n",
       "      <th>1</th>\n",
       "      <td>862.738304</td>\n",
       "      <td>367.195897</td>\n",
       "      <td>108.976501</td>\n",
       "      <td>6</td>\n",
       "      <td>0.391100</td>\n",
       "      <td>-0.141937</td>\n",
       "      <td>2.502200</td>\n",
       "      <td>-0.174280</td>\n",
       "      <td>15/9-23</td>\n",
       "      <td>2315.614502</td>\n",
       "    </tr>\n",
       "    <tr>\n",
       "      <th>2</th>\n",
       "      <td>859.731392</td>\n",
       "      <td>356.882324</td>\n",
       "      <td>126.231796</td>\n",
       "      <td>6</td>\n",
       "      <td>0.407800</td>\n",
       "      <td>-0.137453</td>\n",
       "      <td>2.473100</td>\n",
       "      <td>-0.153141</td>\n",
       "      <td>15/9-23</td>\n",
       "      <td>2315.766846</td>\n",
       "    </tr>\n",
       "    <tr>\n",
       "      <th>3</th>\n",
       "      <td>852.451690</td>\n",
       "      <td>352.642505</td>\n",
       "      <td>149.429504</td>\n",
       "      <td>6</td>\n",
       "      <td>0.407700</td>\n",
       "      <td>-0.138346</td>\n",
       "      <td>2.481300</td>\n",
       "      <td>-0.136439</td>\n",
       "      <td>15/9-23</td>\n",
       "      <td>2315.919189</td>\n",
       "    </tr>\n",
       "    <tr>\n",
       "      <th>4</th>\n",
       "      <td>831.515102</td>\n",
       "      <td>343.942351</td>\n",
       "      <td>163.915497</td>\n",
       "      <td>6</td>\n",
       "      <td>0.426000</td>\n",
       "      <td>-0.152181</td>\n",
       "      <td>2.470900</td>\n",
       "      <td>-0.169219</td>\n",
       "      <td>15/9-23</td>\n",
       "      <td>2316.071533</td>\n",
       "    </tr>\n",
       "    <tr>\n",
       "      <th>...</th>\n",
       "      <td>...</td>\n",
       "      <td>...</td>\n",
       "      <td>...</td>\n",
       "      <td>...</td>\n",
       "      <td>...</td>\n",
       "      <td>...</td>\n",
       "      <td>...</td>\n",
       "      <td>...</td>\n",
       "      <td>...</td>\n",
       "      <td>...</td>\n",
       "    </tr>\n",
       "    <tr>\n",
       "      <th>184714</th>\n",
       "      <td>975.433690</td>\n",
       "      <td>786.915040</td>\n",
       "      <td>30.631025</td>\n",
       "      <td>1</td>\n",
       "      <td>0.166493</td>\n",
       "      <td>-0.080911</td>\n",
       "      <td>2.334237</td>\n",
       "      <td>-0.103026</td>\n",
       "      <td>7/1-2 S</td>\n",
       "      <td>3159.605469</td>\n",
       "    </tr>\n",
       "    <tr>\n",
       "      <th>184715</th>\n",
       "      <td>974.116774</td>\n",
       "      <td>786.938048</td>\n",
       "      <td>32.643269</td>\n",
       "      <td>1</td>\n",
       "      <td>0.176284</td>\n",
       "      <td>-0.066384</td>\n",
       "      <td>2.365948</td>\n",
       "      <td>-0.086213</td>\n",
       "      <td>7/1-2 S</td>\n",
       "      <td>3159.757812</td>\n",
       "    </tr>\n",
       "    <tr>\n",
       "      <th>184716</th>\n",
       "      <td>973.699375</td>\n",
       "      <td>786.934316</td>\n",
       "      <td>36.831581</td>\n",
       "      <td>1</td>\n",
       "      <td>0.183089</td>\n",
       "      <td>-0.044875</td>\n",
       "      <td>2.379198</td>\n",
       "      <td>-0.062319</td>\n",
       "      <td>7/1-2 S</td>\n",
       "      <td>3159.910156</td>\n",
       "    </tr>\n",
       "    <tr>\n",
       "      <th>184717</th>\n",
       "      <td>980.483463</td>\n",
       "      <td>786.996119</td>\n",
       "      <td>41.760101</td>\n",
       "      <td>1</td>\n",
       "      <td>0.175724</td>\n",
       "      <td>-0.036334</td>\n",
       "      <td>2.360352</td>\n",
       "      <td>-0.051182</td>\n",
       "      <td>7/1-2 S</td>\n",
       "      <td>3160.062500</td>\n",
       "    </tr>\n",
       "    <tr>\n",
       "      <th>184718</th>\n",
       "      <td>1013.604614</td>\n",
       "      <td>787.441169</td>\n",
       "      <td>37.401623</td>\n",
       "      <td>1</td>\n",
       "      <td>0.188080</td>\n",
       "      <td>-0.044203</td>\n",
       "      <td>2.333034</td>\n",
       "      <td>-0.056003</td>\n",
       "      <td>7/1-2 S</td>\n",
       "      <td>3160.215088</td>\n",
       "    </tr>\n",
       "  </tbody>\n",
       "</table>\n",
       "<p>184719 rows × 10 columns</p>\n",
       "</div>"
      ],
      "text/plain": [
       "                 Vp          Vs          GR  Facies      NPHI      RDEP  \\\n",
       "0        864.354985  373.319164   96.910202       6  0.391600 -0.148803   \n",
       "1        862.738304  367.195897  108.976501       6  0.391100 -0.141937   \n",
       "2        859.731392  356.882324  126.231796       6  0.407800 -0.137453   \n",
       "3        852.451690  352.642505  149.429504       6  0.407700 -0.138346   \n",
       "4        831.515102  343.942351  163.915497       6  0.426000 -0.152181   \n",
       "...             ...         ...         ...     ...       ...       ...   \n",
       "184714   975.433690  786.915040   30.631025       1  0.166493 -0.080911   \n",
       "184715   974.116774  786.938048   32.643269       1  0.176284 -0.066384   \n",
       "184716   973.699375  786.934316   36.831581       1  0.183089 -0.044875   \n",
       "184717   980.483463  786.996119   41.760101       1  0.175724 -0.036334   \n",
       "184718  1013.604614  787.441169   37.401623       1  0.188080 -0.044203   \n",
       "\n",
       "            RHOB      RMED     WELL        Depth  \n",
       "0       2.480200 -0.176721  15/9-23  2315.461914  \n",
       "1       2.502200 -0.174280  15/9-23  2315.614502  \n",
       "2       2.473100 -0.153141  15/9-23  2315.766846  \n",
       "3       2.481300 -0.136439  15/9-23  2315.919189  \n",
       "4       2.470900 -0.169219  15/9-23  2316.071533  \n",
       "...          ...       ...      ...          ...  \n",
       "184714  2.334237 -0.103026  7/1-2 S  3159.605469  \n",
       "184715  2.365948 -0.086213  7/1-2 S  3159.757812  \n",
       "184716  2.379198 -0.062319  7/1-2 S  3159.910156  \n",
       "184717  2.360352 -0.051182  7/1-2 S  3160.062500  \n",
       "184718  2.333034 -0.056003  7/1-2 S  3160.215088  \n",
       "\n",
       "[184719 rows x 10 columns]"
      ]
     },
     "execution_count": 12,
     "metadata": {},
     "output_type": "execute_result"
    }
   ],
   "source": [
    "# Rename the Facies header from \"LITHOLOGY_GEOLINK\" into \"Facies\", for convenience.\n",
    "training_data.rename(columns = {'LITHOLOGY_GEOLINK':'Facies'}, inplace = True)\n",
    "training_data"
   ]
  },
  {
   "cell_type": "code",
   "execution_count": 13,
   "metadata": {},
   "outputs": [
    {
     "data": {
      "text/plain": [
       "array(['15/9-23', '16/10-3 Tyr Central', '16/10-5 Isbjoern',\n",
       "       '16/2-11 A Johan Sverdrup Appr', '16/2-16', '16/2-6',\n",
       "       '16/2-7 Johan Sverdrup Appr', '16/5-3 Johan Sverdrup Appr',\n",
       "       '16/7-6', '25/10-10  Balder Triassic', '25/10-9 Aegis',\n",
       "       '25/11-19 S  Balder Appr', '25/11-24 Jakob South',\n",
       "       '25/8-5 S  Jotun', '31/2-19 S', '31/2-21 S', '31/3-4', '32/2-1',\n",
       "       '33/6-3 S', '34/10-35', '34/11-1', '34/3-1 A', '34/3-2 S',\n",
       "       '34/3-3 A', '34/4-10 R', '34/5-1 A', '34/5-1 S', '34/6-1',\n",
       "       '35/11-10', '35/11-11', '35/11-13', '35/11-5', '35/11-6',\n",
       "       '35/3-7 S', '35/6-2 S', '35/8-6 S', '35/9-10 S', '35/9-2',\n",
       "       '35/9-5', '35/9-7', '35/9-8', '35/9-9', '7/1-2 S'], dtype=object)"
      ]
     },
     "execution_count": 13,
     "metadata": {},
     "output_type": "execute_result"
    }
   ],
   "source": [
    "training_data[\"WELL\"].unique()"
   ]
  },
  {
   "cell_type": "markdown",
   "metadata": {
    "id": "nJj6zInhvl9g"
   },
   "source": [
    "Remove a single well to use as a blind test later. In this case, the blind well is: 15/9-23"
   ]
  },
  {
   "cell_type": "code",
   "execution_count": 14,
   "metadata": {
    "id": "c5KpOm9_vk_V"
   },
   "outputs": [],
   "source": [
    "blind = training_data[training_data['WELL'] == '15/9-23']\n",
    "training_data = training_data[training_data['WELL'] != '15/9-23']"
   ]
  },
  {
   "cell_type": "code",
   "execution_count": 15,
   "metadata": {},
   "outputs": [
    {
     "data": {
      "text/plain": [
       "array([ 6,  7,  5, 17, 14,  4,  2,  1, 10, 11, 12, 16,  3])"
      ]
     },
     "execution_count": 15,
     "metadata": {},
     "output_type": "execute_result"
    }
   ],
   "source": [
    "blind['Facies'].unique()"
   ]
  },
  {
   "cell_type": "code",
   "execution_count": 16,
   "metadata": {},
   "outputs": [
    {
     "data": {
      "text/plain": [
       "array([ 9, 12,  8, 11, 10,  2,  5,  4,  3,  6,  7,  1, 14, 13, 15, 18, 17,\n",
       "       16])"
      ]
     },
     "execution_count": 16,
     "metadata": {},
     "output_type": "execute_result"
    }
   ],
   "source": [
    "training_data['Facies'].unique()"
   ]
  },
  {
   "cell_type": "code",
   "execution_count": 17,
   "metadata": {
    "colab": {
     "base_uri": "https://localhost:8080/"
    },
    "id": "MPAmMrcywCbe",
    "outputId": "72c44c5e-847e-47db-f6e8-c642d629bc27"
   },
   "outputs": [
    {
     "name": "stderr",
     "output_type": "stream",
     "text": [
      "<ipython-input-17-af87227d7e99>:1: SettingWithCopyWarning: \n",
      "A value is trying to be set on a copy of a slice from a DataFrame.\n",
      "Try using .loc[row_indexer,col_indexer] = value instead\n",
      "\n",
      "See the caveats in the documentation: https://pandas.pydata.org/pandas-docs/stable/user_guide/indexing.html#returning-a-view-versus-a-copy\n",
      "  training_data['WELL'] = training_data['WELL'].astype('category')\n"
     ]
    }
   ],
   "source": [
    "training_data['WELL'] = training_data['WELL'].astype('category')"
   ]
  },
  {
   "cell_type": "code",
   "execution_count": 18,
   "metadata": {
    "colab": {
     "base_uri": "https://localhost:8080/",
     "height": 404
    },
    "id": "rQs8WgZ2we1A",
    "outputId": "ce0de7b0-a497-4f0b-82a3-3f0b918a50ee"
   },
   "outputs": [
    {
     "name": "stderr",
     "output_type": "stream",
     "text": [
      "C:\\Users\\nandi\\anaconda3\\lib\\site-packages\\pandas\\core\\indexing.py:1597: SettingWithCopyWarning: \n",
      "A value is trying to be set on a copy of a slice from a DataFrame.\n",
      "Try using .loc[row_indexer,col_indexer] = value instead\n",
      "\n",
      "See the caveats in the documentation: https://pandas.pydata.org/pandas-docs/stable/user_guide/indexing.html#returning-a-view-versus-a-copy\n",
      "  self.obj[key] = value\n",
      "C:\\Users\\nandi\\anaconda3\\lib\\site-packages\\pandas\\core\\indexing.py:1676: SettingWithCopyWarning: \n",
      "A value is trying to be set on a copy of a slice from a DataFrame.\n",
      "Try using .loc[row_indexer,col_indexer] = value instead\n",
      "\n",
      "See the caveats in the documentation: https://pandas.pydata.org/pandas-docs/stable/user_guide/indexing.html#returning-a-view-versus-a-copy\n",
      "  self._setitem_single_column(ilocs[0], value, pi)\n"
     ]
    },
    {
     "data": {
      "text/html": [
       "<div>\n",
       "<style scoped>\n",
       "    .dataframe tbody tr th:only-of-type {\n",
       "        vertical-align: middle;\n",
       "    }\n",
       "\n",
       "    .dataframe tbody tr th {\n",
       "        vertical-align: top;\n",
       "    }\n",
       "\n",
       "    .dataframe thead th {\n",
       "        text-align: right;\n",
       "    }\n",
       "</style>\n",
       "<table border=\"1\" class=\"dataframe\">\n",
       "  <thead>\n",
       "    <tr style=\"text-align: right;\">\n",
       "      <th></th>\n",
       "      <th>Vp</th>\n",
       "      <th>Vs</th>\n",
       "      <th>GR</th>\n",
       "      <th>Facies</th>\n",
       "      <th>NPHI</th>\n",
       "      <th>RDEP</th>\n",
       "      <th>RHOB</th>\n",
       "      <th>RMED</th>\n",
       "      <th>Depth</th>\n",
       "    </tr>\n",
       "  </thead>\n",
       "  <tbody>\n",
       "    <tr>\n",
       "      <th>count</th>\n",
       "      <td>179001.000000</td>\n",
       "      <td>179001.000000</td>\n",
       "      <td>179001.000000</td>\n",
       "      <td>179001.000000</td>\n",
       "      <td>179001.000000</td>\n",
       "      <td>179001.000000</td>\n",
       "      <td>179001.000000</td>\n",
       "      <td>179001.000000</td>\n",
       "      <td>179001.000000</td>\n",
       "    </tr>\n",
       "    <tr>\n",
       "      <th>mean</th>\n",
       "      <td>1108.424391</td>\n",
       "      <td>555.463115</td>\n",
       "      <td>85.024165</td>\n",
       "      <td>7.070005</td>\n",
       "      <td>2.103066</td>\n",
       "      <td>0.446440</td>\n",
       "      <td>2.444573</td>\n",
       "      <td>0.448445</td>\n",
       "      <td>2720.521198</td>\n",
       "    </tr>\n",
       "    <tr>\n",
       "      <th>std</th>\n",
       "      <td>350.448033</td>\n",
       "      <td>229.959969</td>\n",
       "      <td>41.682120</td>\n",
       "      <td>3.526951</td>\n",
       "      <td>7.973450</td>\n",
       "      <td>0.456329</td>\n",
       "      <td>0.151355</td>\n",
       "      <td>0.457802</td>\n",
       "      <td>814.322484</td>\n",
       "    </tr>\n",
       "    <tr>\n",
       "      <th>min</th>\n",
       "      <td>261.159283</td>\n",
       "      <td>97.222720</td>\n",
       "      <td>0.207500</td>\n",
       "      <td>1.000000</td>\n",
       "      <td>-0.015100</td>\n",
       "      <td>-0.915044</td>\n",
       "      <td>1.244003</td>\n",
       "      <td>-0.927363</td>\n",
       "      <td>1201.265503</td>\n",
       "    </tr>\n",
       "    <tr>\n",
       "      <th>25%</th>\n",
       "      <td>956.626514</td>\n",
       "      <td>436.314443</td>\n",
       "      <td>58.656017</td>\n",
       "      <td>5.000000</td>\n",
       "      <td>0.208600</td>\n",
       "      <td>0.157721</td>\n",
       "      <td>2.359100</td>\n",
       "      <td>0.159086</td>\n",
       "      <td>2059.429932</td>\n",
       "    </tr>\n",
       "    <tr>\n",
       "      <th>50%</th>\n",
       "      <td>1123.535984</td>\n",
       "      <td>580.747429</td>\n",
       "      <td>80.702522</td>\n",
       "      <td>6.000000</td>\n",
       "      <td>0.283300</td>\n",
       "      <td>0.400153</td>\n",
       "      <td>2.473178</td>\n",
       "      <td>0.408935</td>\n",
       "      <td>2611.423096</td>\n",
       "    </tr>\n",
       "    <tr>\n",
       "      <th>75%</th>\n",
       "      <td>1247.844367</td>\n",
       "      <td>676.655010</td>\n",
       "      <td>106.062500</td>\n",
       "      <td>10.000000</td>\n",
       "      <td>0.355800</td>\n",
       "      <td>0.682443</td>\n",
       "      <td>2.557600</td>\n",
       "      <td>0.694351</td>\n",
       "      <td>3243.681641</td>\n",
       "    </tr>\n",
       "    <tr>\n",
       "      <th>max</th>\n",
       "      <td>5519.963395</td>\n",
       "      <td>2875.440293</td>\n",
       "      <td>1163.366455</td>\n",
       "      <td>18.000000</td>\n",
       "      <td>61.007858</td>\n",
       "      <td>4.466433</td>\n",
       "      <td>3.217700</td>\n",
       "      <td>4.000000</td>\n",
       "      <td>4981.242676</td>\n",
       "    </tr>\n",
       "  </tbody>\n",
       "</table>\n",
       "</div>"
      ],
      "text/plain": [
       "                  Vp             Vs             GR         Facies  \\\n",
       "count  179001.000000  179001.000000  179001.000000  179001.000000   \n",
       "mean     1108.424391     555.463115      85.024165       7.070005   \n",
       "std       350.448033     229.959969      41.682120       3.526951   \n",
       "min       261.159283      97.222720       0.207500       1.000000   \n",
       "25%       956.626514     436.314443      58.656017       5.000000   \n",
       "50%      1123.535984     580.747429      80.702522       6.000000   \n",
       "75%      1247.844367     676.655010     106.062500      10.000000   \n",
       "max      5519.963395    2875.440293    1163.366455      18.000000   \n",
       "\n",
       "                NPHI           RDEP           RHOB           RMED  \\\n",
       "count  179001.000000  179001.000000  179001.000000  179001.000000   \n",
       "mean        2.103066       0.446440       2.444573       0.448445   \n",
       "std         7.973450       0.456329       0.151355       0.457802   \n",
       "min        -0.015100      -0.915044       1.244003      -0.927363   \n",
       "25%         0.208600       0.157721       2.359100       0.159086   \n",
       "50%         0.283300       0.400153       2.473178       0.408935   \n",
       "75%         0.355800       0.682443       2.557600       0.694351   \n",
       "max        61.007858       4.466433       3.217700       4.000000   \n",
       "\n",
       "               Depth  \n",
       "count  179001.000000  \n",
       "mean     2720.521198  \n",
       "std       814.322484  \n",
       "min      1201.265503  \n",
       "25%      2059.429932  \n",
       "50%      2611.423096  \n",
       "75%      3243.681641  \n",
       "max      4981.242676  "
      ]
     },
     "execution_count": 18,
     "metadata": {},
     "output_type": "execute_result"
    }
   ],
   "source": [
    "# Define facies colors and labels\n",
    "\n",
    "# 1 = Sandstone, 2 = Silty sand, 3 = Cross Bedded Sst, 4 = Sandy Silt, 5 = Silt\n",
    "# 6 = Shaly Silt, 7 = Silty Shale, 9 = Chalk, 10 = Porous LST, 11 = LST,\n",
    "# 12 = Argillaceous Limestone, 13 = Marlstone, 15 = Dolomite, 16 = Calcareous Cement\n",
    "# 17 = Conglomerate, 18 = Coal, 19 = Cinerite, 22 = Anhydrite\n",
    "\n",
    "facies_colors = ['#FFFF00','#FDE992','#FFD700','#D2B48C','#FF9999','#FFCC00','#026440',\n",
    "                 '#3d85c6','#6fa8dc','#9fc5e8','#1e90ff','#00bfff','#44ffff','#36cccc',\n",
    "                 '#e3b778','#000000', '#227f7f', '#FF77FF']\n",
    "\n",
    "facies_labels = ['SS', 'SiS', 'CSS', 'SSi', 'Si', 'ShSi', 'SiSh','Ch', 'PLS', 'LS','ALS','M','D','CC',\n",
    "                 'COM','COAL','CIN','ANH']\n",
    "#facies_color_map is a dictionary that maps facies labels\n",
    "#to their respective colors\n",
    "facies_color_map = {}\n",
    "for ind, label in enumerate(facies_labels):\n",
    "    facies_color_map[label] = facies_colors[ind]\n",
    "\n",
    "def label_facies(row, labels):\n",
    "    return labels[ int(row['Facies']) -1]\n",
    "    \n",
    "training_data.loc[:,'FaciesLabels'] = training_data.apply(lambda row: label_facies(row, facies_labels), axis=1)\n",
    "training_data.describe()"
   ]
  },
  {
   "cell_type": "code",
   "execution_count": 19,
   "metadata": {
    "id": "8yn7mmt8w1Bb"
   },
   "outputs": [],
   "source": [
    "# A function to plot the facies classes, based on the facies_color and facies_label from the previous cell.\n",
    "\n",
    "def make_facies_log_plot(logs, facies_colors):\n",
    "    #make sure logs are sorted by depth\n",
    "    logs = logs.sort_values(by='Depth')\n",
    "    cmap_facies = colors.ListedColormap(\n",
    "            facies_colors[0:len(facies_colors)], 'indexed')\n",
    "    \n",
    "    ztop=logs.Depth.min(); zbot=logs.Depth.max()\n",
    "    \n",
    "    cluster=np.repeat(np.expand_dims(logs['Facies'].values,1), 100, 1)\n",
    "    \n",
    "    f, ax = plt.subplots(nrows=1, ncols=8, figsize=(8, 12))\n",
    "    ax[0].plot(logs.Vp, logs.Depth, '-g')\n",
    "    ax[1].plot(logs.Vs, logs.Depth, '-')\n",
    "    ax[2].plot(logs.GR, logs.Depth, '-', color='0.5')\n",
    "    ax[3].plot(logs.NPHI, logs.Depth, '-', color='r')\n",
    "    ax[4].plot(logs.RDEP, logs.Depth, '-', color='black')\n",
    "    ax[5].plot(logs.RMED, logs.Depth, '-', color='orange')\n",
    "    ax[6].plot(logs.RHOB, logs.Depth, '-', color='cyan')\n",
    "    im=ax[7].imshow(cluster, interpolation='none', aspect='auto',\n",
    "                    cmap=cmap_facies,vmin=1,vmax=18)\n",
    "    \n",
    "    divider = make_axes_locatable(ax[7])\n",
    "    cax = divider.append_axes(\"right\", size=\"20%\", pad=0.05)\n",
    "    cbar=plt.colorbar(im, cax=cax)\n",
    "    cbar.set_label((6*' ').join(['SS', 'SiS', '  CSS', ' SSi', 'Si', 'ShSi', 'SiSh','Ch', 'PLS', '  LS','  ALS','M','   D','   CC',\n",
    "                                 'COM','COAL','CIN','ANH']))\n",
    "    cbar.set_ticks(range(0,1)); cbar.set_ticklabels('')\n",
    "    \n",
    "    for i in range(len(ax)-1):\n",
    "        ax[i].set_ylim(ztop,zbot)\n",
    "        ax[i].invert_yaxis()\n",
    "        ax[i].grid()\n",
    "        ax[i].locator_params(axis='x', nbins=3)\n",
    "    \n",
    "    ax[0].set_xlabel(\"Vp\")\n",
    "    ax[0].set_xlim(logs.Vp.min(),logs.Vp.max())\n",
    "    ax[1].set_xlabel(\"Vs\")\n",
    "    ax[1].set_xlim(logs.Vs.min(),logs.Vs.max())\n",
    "    ax[2].set_xlabel(\"GR\")\n",
    "    ax[2].set_xlim(logs.GR.min(),logs.GR.max())\n",
    "    ax[3].set_xlabel(\"NPHI\")\n",
    "    ax[3].set_xlim(logs.NPHI.min(),logs.NPHI.max())\n",
    "    ax[4].set_xlabel(\"RDEP\")\n",
    "    ax[4].set_xlim(logs.RDEP.min(),logs.RDEP.max())\n",
    "    ax[5].set_xlabel(\"RMED\")\n",
    "    ax[5].set_xlim(logs.RMED.min(),logs.RMED.max())\n",
    "    ax[6].set_xlabel(\"RHOB\")\n",
    "    ax[6].set_xlim(logs.RHOB.min(),logs.RHOB.max())\n",
    "    ax[7].set_xlabel('Facies')\n",
    "    \n",
    "    ax[1].set_yticklabels([]); ax[2].set_yticklabels([]); ax[3].set_yticklabels([])\n",
    "    ax[4].set_yticklabels([]); ax[5].set_yticklabels([]); ax[6].set_yticklabels([]);\n",
    "    ax[7].set_yticklabels([]); ax[7].set_xticklabels([])\n",
    "    f.suptitle('Well: %s'%logs.iloc[0]['WELL'], fontsize=14,y=0.94)\n",
    "    \n",
    "    # Do the plot code\n",
    "    f.savefig('facies_log_plot.svg', format='svg', dpi=1200)"
   ]
  },
  {
   "cell_type": "markdown",
   "metadata": {
    "id": "-QETOKKhw5oN"
   },
   "source": [
    "For example, plotting Wells 31/2-19 S and 31/2-19 S using the function for plotting facies classes, as seen in the previous cell. \n",
    "\n",
    "Also with the features (seven well logs)"
   ]
  },
  {
   "cell_type": "code",
   "execution_count": 20,
   "metadata": {
    "colab": {
     "base_uri": "https://localhost:8080/",
     "height": 1000
    },
    "id": "vTYgIDypw7zj",
    "outputId": "70f3d437-c422-45f4-c353-71e424eabb39",
    "scrolled": false
   },
   "outputs": [
    {
     "data": {
      "image/png": "[encoded data removed]",
      "text/plain": [
       "<Figure size 576x864 with 9 Axes>"
      ]
     },
     "metadata": {
      "needs_background": "light"
     },
     "output_type": "display_data"
    },
    {
     "data": {
      "image/png": "[encoded data removed]",
      "text/plain": [
       "<Figure size 576x864 with 9 Axes>"
      ]
     },
     "metadata": {
      "needs_background": "light"
     },
     "output_type": "display_data"
    }
   ],
   "source": [
    "make_facies_log_plot(\n",
    "    training_data[training_data['WELL'] == '31/2-19 S'],\n",
    "    facies_colors)\n",
    "\n",
    "make_facies_log_plot(\n",
    "    training_data[training_data['WELL'] == '31/2-19 S'],\n",
    "    facies_colors)"
   ]
  },
  {
   "cell_type": "code",
   "execution_count": 21,
   "metadata": {
    "colab": {
     "base_uri": "https://localhost:8080/",
     "height": 468
    },
    "id": "8jbOUAozxXh2",
    "outputId": "3e7b18b1-061b-48d3-9f0e-2d8e3dc5d03b"
   },
   "outputs": [
    {
     "data": {
      "text/plain": [
       "SS       8207\n",
       "SiS     12400\n",
       "CSS      3638\n",
       "SSi      5845\n",
       "Si      31303\n",
       "ShSi    36468\n",
       "SiSh    25708\n",
       "Ch       3145\n",
       "PLS      1401\n",
       "LS       9148\n",
       "ALS      8321\n",
       "M       25292\n",
       "D        2673\n",
       "CC       2899\n",
       "COM        44\n",
       "COAL      262\n",
       "CIN      1959\n",
       "ANH       288\n",
       "Name: Facies, dtype: int64"
      ]
     },
     "execution_count": 21,
     "metadata": {},
     "output_type": "execute_result"
    },
    {
     "data": {
      "image/png": "[encoded data removed]",
      "text/plain": [
       "<Figure size 432x288 with 1 Axes>"
      ]
     },
     "metadata": {
      "needs_background": "light"
     },
     "output_type": "display_data"
    }
   ],
   "source": [
    "#count the number of unique entries for each facies, sort them by\n",
    "#facies number (instead of by number of entries)\n",
    "facies_counts = training_data['Facies'].value_counts().sort_index()\n",
    "#use facies labels to index each count\n",
    "facies_counts.index = facies_labels\n",
    "\n",
    "facies_counts.plot(kind='bar',color=facies_colors, \n",
    "                   title='Distribution of Training Data by Facies')\n",
    "facies_counts"
   ]
  },
  {
   "cell_type": "markdown",
   "metadata": {
    "id": "z7QsU7LZx6NO"
   },
   "source": [
    "# Conditioning the data set"
   ]
  },
  {
   "cell_type": "code",
   "execution_count": 22,
   "metadata": {
    "scrolled": false
   },
   "outputs": [],
   "source": [
    "# correct_labels = training_data[['Vp','Vs']].values\n",
    "# correct_labels"
   ]
  },
  {
   "cell_type": "code",
   "execution_count": 23,
   "metadata": {},
   "outputs": [],
   "source": [
    "# correct_labels[0:3]"
   ]
  },
  {
   "cell_type": "code",
   "execution_count": 24,
   "metadata": {},
   "outputs": [],
   "source": [
    "# df = pd.DataFrame(correct_labels, columns = ['Vp','Vs'])\n",
    "# df = pd.DataFrame(correct_labels, columns = ['Vp'])\n",
    "\n",
    "# print(df)"
   ]
  },
  {
   "cell_type": "code",
   "execution_count": 25,
   "metadata": {
    "colab": {
     "base_uri": "https://localhost:8080/",
     "height": 300
    },
    "id": "Gz_C0CxEx-JG",
    "outputId": "b7ac27db-2d16-4b5e-f23d-6b4abff50689",
    "scrolled": true
   },
   "outputs": [
    {
     "data": {
      "text/html": [
       "<div>\n",
       "<style scoped>\n",
       "    .dataframe tbody tr th:only-of-type {\n",
       "        vertical-align: middle;\n",
       "    }\n",
       "\n",
       "    .dataframe tbody tr th {\n",
       "        vertical-align: top;\n",
       "    }\n",
       "\n",
       "    .dataframe thead th {\n",
       "        text-align: right;\n",
       "    }\n",
       "</style>\n",
       "<table border=\"1\" class=\"dataframe\">\n",
       "  <thead>\n",
       "    <tr style=\"text-align: right;\">\n",
       "      <th></th>\n",
       "      <th>GR</th>\n",
       "      <th>NPHI</th>\n",
       "      <th>RDEP</th>\n",
       "      <th>RHOB</th>\n",
       "      <th>RMED</th>\n",
       "    </tr>\n",
       "  </thead>\n",
       "  <tbody>\n",
       "    <tr>\n",
       "      <th>count</th>\n",
       "      <td>179001.000000</td>\n",
       "      <td>179001.000000</td>\n",
       "      <td>179001.000000</td>\n",
       "      <td>179001.000000</td>\n",
       "      <td>179001.000000</td>\n",
       "    </tr>\n",
       "    <tr>\n",
       "      <th>mean</th>\n",
       "      <td>85.024165</td>\n",
       "      <td>2.103066</td>\n",
       "      <td>0.446440</td>\n",
       "      <td>2.444573</td>\n",
       "      <td>0.448445</td>\n",
       "    </tr>\n",
       "    <tr>\n",
       "      <th>std</th>\n",
       "      <td>41.682120</td>\n",
       "      <td>7.973450</td>\n",
       "      <td>0.456329</td>\n",
       "      <td>0.151355</td>\n",
       "      <td>0.457802</td>\n",
       "    </tr>\n",
       "    <tr>\n",
       "      <th>min</th>\n",
       "      <td>0.207500</td>\n",
       "      <td>-0.015100</td>\n",
       "      <td>-0.915044</td>\n",
       "      <td>1.244003</td>\n",
       "      <td>-0.927363</td>\n",
       "    </tr>\n",
       "    <tr>\n",
       "      <th>25%</th>\n",
       "      <td>58.656017</td>\n",
       "      <td>0.208600</td>\n",
       "      <td>0.157721</td>\n",
       "      <td>2.359100</td>\n",
       "      <td>0.159086</td>\n",
       "    </tr>\n",
       "    <tr>\n",
       "      <th>50%</th>\n",
       "      <td>80.702522</td>\n",
       "      <td>0.283300</td>\n",
       "      <td>0.400153</td>\n",
       "      <td>2.473178</td>\n",
       "      <td>0.408935</td>\n",
       "    </tr>\n",
       "    <tr>\n",
       "      <th>75%</th>\n",
       "      <td>106.062500</td>\n",
       "      <td>0.355800</td>\n",
       "      <td>0.682443</td>\n",
       "      <td>2.557600</td>\n",
       "      <td>0.694351</td>\n",
       "    </tr>\n",
       "    <tr>\n",
       "      <th>max</th>\n",
       "      <td>1163.366455</td>\n",
       "      <td>61.007858</td>\n",
       "      <td>4.466433</td>\n",
       "      <td>3.217700</td>\n",
       "      <td>4.000000</td>\n",
       "    </tr>\n",
       "  </tbody>\n",
       "</table>\n",
       "</div>"
      ],
      "text/plain": [
       "                  GR           NPHI           RDEP           RHOB  \\\n",
       "count  179001.000000  179001.000000  179001.000000  179001.000000   \n",
       "mean       85.024165       2.103066       0.446440       2.444573   \n",
       "std        41.682120       7.973450       0.456329       0.151355   \n",
       "min         0.207500      -0.015100      -0.915044       1.244003   \n",
       "25%        58.656017       0.208600       0.157721       2.359100   \n",
       "50%        80.702522       0.283300       0.400153       2.473178   \n",
       "75%       106.062500       0.355800       0.682443       2.557600   \n",
       "max      1163.366455      61.007858       4.466433       3.217700   \n",
       "\n",
       "                RMED  \n",
       "count  179001.000000  \n",
       "mean        0.448445  \n",
       "std         0.457802  \n",
       "min        -0.927363  \n",
       "25%         0.159086  \n",
       "50%         0.408935  \n",
       "75%         0.694351  \n",
       "max         4.000000  "
      ]
     },
     "execution_count": 25,
     "metadata": {},
     "output_type": "execute_result"
    }
   ],
   "source": [
    "# correct_labels = training_data['Facies'].values\n",
    "# correct_labels = training_data[['Vp','Vs']].values\n",
    "# correct_labels = training_data['Vp'].values\n",
    "correct_labels = training_data['Vs'].values\n",
    "correct_labels\n",
    "\n",
    "feature_vectors = training_data.drop(['Vp','Vs','WELL', 'Depth','FaciesLabels','Facies'], axis=1)\n",
    "feature_vectors.describe()"
   ]
  },
  {
   "cell_type": "code",
   "execution_count": 26,
   "metadata": {},
   "outputs": [],
   "source": [
    "# Perform Standard scaler for the dataset\n",
    "\n",
    "from sklearn import preprocessing\n",
    "\n",
    "scaler = preprocessing.StandardScaler().fit(feature_vectors)\n",
    "scaled_features = scaler.transform(feature_vectors)"
   ]
  },
  {
   "cell_type": "code",
   "execution_count": 27,
   "metadata": {
    "colab": {
     "base_uri": "https://localhost:8080/",
     "height": 424
    },
    "id": "lMNaZiZr0LJv",
    "outputId": "139ce3e1-3b3a-40a8-f270-c9ed5d3e4bd0"
   },
   "outputs": [
    {
     "data": {
      "text/html": [
       "<div>\n",
       "<style scoped>\n",
       "    .dataframe tbody tr th:only-of-type {\n",
       "        vertical-align: middle;\n",
       "    }\n",
       "\n",
       "    .dataframe tbody tr th {\n",
       "        vertical-align: top;\n",
       "    }\n",
       "\n",
       "    .dataframe thead th {\n",
       "        text-align: right;\n",
       "    }\n",
       "</style>\n",
       "<table border=\"1\" class=\"dataframe\">\n",
       "  <thead>\n",
       "    <tr style=\"text-align: right;\">\n",
       "      <th></th>\n",
       "      <th>GR</th>\n",
       "      <th>NPHI</th>\n",
       "      <th>RDEP_log10</th>\n",
       "      <th>RHOB</th>\n",
       "      <th>RMED_log10</th>\n",
       "    </tr>\n",
       "  </thead>\n",
       "  <tbody>\n",
       "    <tr>\n",
       "      <th>0</th>\n",
       "      <td>-0.330323</td>\n",
       "      <td>-0.198929</td>\n",
       "      <td>-0.860764</td>\n",
       "      <td>-1.214547</td>\n",
       "      <td>-1.079820</td>\n",
       "    </tr>\n",
       "    <tr>\n",
       "      <th>1</th>\n",
       "      <td>-0.457191</td>\n",
       "      <td>-0.217238</td>\n",
       "      <td>-0.857147</td>\n",
       "      <td>-0.127503</td>\n",
       "      <td>-1.088584</td>\n",
       "    </tr>\n",
       "    <tr>\n",
       "      <th>2</th>\n",
       "      <td>-0.444280</td>\n",
       "      <td>-0.227331</td>\n",
       "      <td>-0.854568</td>\n",
       "      <td>-0.742820</td>\n",
       "      <td>-1.089441</td>\n",
       "    </tr>\n",
       "    <tr>\n",
       "      <th>3</th>\n",
       "      <td>-0.413933</td>\n",
       "      <td>-0.230131</td>\n",
       "      <td>-0.848937</td>\n",
       "      <td>-0.763863</td>\n",
       "      <td>-1.086165</td>\n",
       "    </tr>\n",
       "    <tr>\n",
       "      <th>4</th>\n",
       "      <td>-0.442292</td>\n",
       "      <td>-0.227046</td>\n",
       "      <td>-0.886897</td>\n",
       "      <td>-0.820611</td>\n",
       "      <td>-1.111157</td>\n",
       "    </tr>\n",
       "    <tr>\n",
       "      <th>...</th>\n",
       "      <td>...</td>\n",
       "      <td>...</td>\n",
       "      <td>...</td>\n",
       "      <td>...</td>\n",
       "      <td>...</td>\n",
       "    </tr>\n",
       "    <tr>\n",
       "      <th>178996</th>\n",
       "      <td>-1.304955</td>\n",
       "      <td>-0.242878</td>\n",
       "      <td>-1.155644</td>\n",
       "      <td>-0.728989</td>\n",
       "      <td>-1.204609</td>\n",
       "    </tr>\n",
       "    <tr>\n",
       "      <th>178997</th>\n",
       "      <td>-1.256679</td>\n",
       "      <td>-0.241650</td>\n",
       "      <td>-1.123808</td>\n",
       "      <td>-0.519477</td>\n",
       "      <td>-1.167882</td>\n",
       "    </tr>\n",
       "    <tr>\n",
       "      <th>178998</th>\n",
       "      <td>-1.156196</td>\n",
       "      <td>-0.240797</td>\n",
       "      <td>-1.076674</td>\n",
       "      <td>-0.431935</td>\n",
       "      <td>-1.115689</td>\n",
       "    </tr>\n",
       "    <tr>\n",
       "      <th>178999</th>\n",
       "      <td>-1.037955</td>\n",
       "      <td>-0.241721</td>\n",
       "      <td>-1.057955</td>\n",
       "      <td>-0.556449</td>\n",
       "      <td>-1.091363</td>\n",
       "    </tr>\n",
       "    <tr>\n",
       "      <th>179000</th>\n",
       "      <td>-1.142520</td>\n",
       "      <td>-0.240171</td>\n",
       "      <td>-1.075201</td>\n",
       "      <td>-0.736938</td>\n",
       "      <td>-1.101894</td>\n",
       "    </tr>\n",
       "  </tbody>\n",
       "</table>\n",
       "<p>179001 rows × 5 columns</p>\n",
       "</div>"
      ],
      "text/plain": [
       "              GR      NPHI  RDEP_log10      RHOB  RMED_log10\n",
       "0      -0.330323 -0.198929   -0.860764 -1.214547   -1.079820\n",
       "1      -0.457191 -0.217238   -0.857147 -0.127503   -1.088584\n",
       "2      -0.444280 -0.227331   -0.854568 -0.742820   -1.089441\n",
       "3      -0.413933 -0.230131   -0.848937 -0.763863   -1.086165\n",
       "4      -0.442292 -0.227046   -0.886897 -0.820611   -1.111157\n",
       "...          ...       ...         ...       ...         ...\n",
       "178996 -1.304955 -0.242878   -1.155644 -0.728989   -1.204609\n",
       "178997 -1.256679 -0.241650   -1.123808 -0.519477   -1.167882\n",
       "178998 -1.156196 -0.240797   -1.076674 -0.431935   -1.115689\n",
       "178999 -1.037955 -0.241721   -1.057955 -0.556449   -1.091363\n",
       "179000 -1.142520 -0.240171   -1.075201 -0.736938   -1.101894\n",
       "\n",
       "[179001 rows x 5 columns]"
      ]
     },
     "execution_count": 27,
     "metadata": {},
     "output_type": "execute_result"
    }
   ],
   "source": [
    "df_scaled_feat = pd.DataFrame(scaled_features,columns=['GR','NPHI','RDEP_log10','RHOB','RMED_log10'])\n",
    "df_scaled_feat"
   ]
  },
  {
   "cell_type": "code",
   "execution_count": 28,
   "metadata": {},
   "outputs": [
    {
     "data": {
      "text/plain": [
       "array([[-0.33032324, -0.1989286 , -0.86076369, -1.2145469 , -1.07982029],\n",
       "       [-0.45719097, -0.21723833, -0.85714705, -0.12750257, -1.08858376],\n",
       "       [-0.4442802 , -0.22733123, -0.85456812, -0.7428199 , -1.08944097],\n",
       "       ...,\n",
       "       [-1.15619644, -0.24079687, -1.07667366, -0.43193516, -1.11568937],\n",
       "       [-1.03795547, -0.24172061, -1.0579555 , -0.55644941, -1.09136317],\n",
       "       [-1.14252047, -0.24017091, -1.07520113, -0.73693798, -1.10189395]])"
      ]
     },
     "execution_count": 28,
     "metadata": {},
     "output_type": "execute_result"
    }
   ],
   "source": [
    "scaled_features"
   ]
  },
  {
   "cell_type": "code",
   "execution_count": 29,
   "metadata": {
    "id": "mXGt2VeuyhNt"
   },
   "outputs": [],
   "source": [
    "from sklearn.model_selection import train_test_split\n",
    "\n",
    "x_train, x_test, y_train, y_test = train_test_split(\n",
    "        scaled_features, correct_labels, test_size=0.2, random_state=123)"
   ]
  },
  {
   "cell_type": "code",
   "execution_count": 30,
   "metadata": {
    "colab": {
     "base_uri": "https://localhost:8080/"
    },
    "id": "-SZ2KnssuhZN",
    "outputId": "5d1a0f58-2feb-4134-b3fd-dcbc3dfcb37a"
   },
   "outputs": [
    {
     "data": {
      "text/plain": [
       "array([[-0.35943252, -0.24608808, -0.07032924,  0.42170382, -0.07336981],\n",
       "       [-1.0744497 , -0.23816157, -0.34421424, -0.23040779, -0.34875251],\n",
       "       [ 0.33620102, -0.23382234,  0.11897166,  0.75535854,  0.19819016],\n",
       "       ...,\n",
       "       [-1.53991439, -0.24074547,  0.17107914, -0.07124944,  0.146644  ],\n",
       "       [-0.69523449, -0.19641057, -1.39891802, -1.68262724, -1.44708019],\n",
       "       [-0.52004131, -0.23310746, -0.84631336, -0.78870799, -0.8672375 ]])"
      ]
     },
     "execution_count": 30,
     "metadata": {},
     "output_type": "execute_result"
    }
   ],
   "source": [
    "x_train"
   ]
  },
  {
   "cell_type": "code",
   "execution_count": 31,
   "metadata": {},
   "outputs": [],
   "source": [
    "import sklearn.metrics as metrics\n",
    "\n",
    "def print_evaluate(true, predicted):  \n",
    "    mae = metrics.mean_absolute_error(true, predicted)\n",
    "    mse = metrics.mean_squared_error(true, predicted)\n",
    "    rmse = np.sqrt(metrics.mean_squared_error(true, predicted))\n",
    "    r2_square = metrics.r2_score(true, predicted)\n",
    "    print('MAE:', mae)\n",
    "    print('MSE:', mse)\n",
    "    print('RMSE:', rmse)\n",
    "    print('R2 Square', r2_square)\n",
    "    print('__________________________________')\n",
    "    \n",
    "def evaluate(true, predicted):\n",
    "    mae = metrics.mean_absolute_error(true, predicted)\n",
    "    mse = metrics.mean_squared_error(true, predicted)\n",
    "    rmse = np.sqrt(metrics.mean_squared_error(true, predicted))\n",
    "    r2_square = metrics.r2_score(true, predicted)\n",
    "    return mae, mse, rmse, r2_square"
   ]
  },
  {
   "cell_type": "markdown",
   "metadata": {},
   "source": [
    "# Conventional ML - SVM Classification"
   ]
  },
  {
   "cell_type": "code",
   "execution_count": 32,
   "metadata": {},
   "outputs": [],
   "source": [
    "import matplotlib.pyplot as plt\n",
    "from sklearn import datasets\n",
    "from sklearn.svm import SVR\n",
    "from sklearn.model_selection import cross_val_score\n",
    "from sklearn.metrics import classification_report\n",
    "from sklearn.metrics import confusion_matrix\n",
    "from sklearn.metrics import accuracy_score"
   ]
  },
  {
   "cell_type": "code",
   "execution_count": 33,
   "metadata": {},
   "outputs": [
    {
     "data": {
      "text/plain": [
       "SVR(C=1000)"
      ]
     },
     "execution_count": 33,
     "metadata": {},
     "output_type": "execute_result"
    }
   ],
   "source": [
    "svm_reg = SVR(gamma='scale', C=1000, kernel='rbf')\n",
    "svm_reg.fit(x_train, y_train)"
   ]
  },
  {
   "cell_type": "code",
   "execution_count": 34,
   "metadata": {},
   "outputs": [],
   "source": [
    "test_pred = svm_reg.predict(x_test)\n",
    "train_pred = svm_reg.predict(x_train)"
   ]
  },
  {
   "cell_type": "code",
   "execution_count": 35,
   "metadata": {},
   "outputs": [
    {
     "name": "stdout",
     "output_type": "stream",
     "text": [
      "Test set evaluation:\n",
      "_____________________________________\n",
      "MAE: 66.88976184313573\n",
      "MSE: 26615.20171567986\n",
      "RMSE: 163.1416614960135\n",
      "R2 Square 0.5075609199453164\n",
      "__________________________________\n",
      "Train set evaluation:\n",
      "_____________________________________\n",
      "MAE: 66.44773503794168\n",
      "MSE: 25469.03408565105\n",
      "RMSE: 159.59020673478386\n",
      "R2 Square 0.5157017363705124\n",
      "__________________________________\n"
     ]
    }
   ],
   "source": [
    "print('Test set evaluation:\\n_____________________________________')\n",
    "print_evaluate(y_test, test_pred)\n",
    "\n",
    "print('Train set evaluation:\\n_____________________________________')\n",
    "print_evaluate(y_train, train_pred)"
   ]
  },
  {
   "cell_type": "markdown",
   "metadata": {},
   "source": [
    "# Conventional ML - RF Classification"
   ]
  },
  {
   "cell_type": "code",
   "execution_count": 36,
   "metadata": {},
   "outputs": [],
   "source": [
    "from sklearn.ensemble import RandomForestRegressor"
   ]
  },
  {
   "cell_type": "code",
   "execution_count": 37,
   "metadata": {},
   "outputs": [
    {
     "data": {
      "text/plain": [
       "RandomForestRegressor(n_estimators=1000, random_state=123)"
      ]
     },
     "execution_count": 37,
     "metadata": {},
     "output_type": "execute_result"
    }
   ],
   "source": [
    "rf_reg = RandomForestRegressor(n_estimators=1000, random_state=123)\n",
    "rf_reg.fit(x_train, y_train)"
   ]
  },
  {
   "cell_type": "code",
   "execution_count": 38,
   "metadata": {},
   "outputs": [],
   "source": [
    "test_pred = rf_reg.predict(x_test)\n",
    "train_pred = rf_reg.predict(x_train)"
   ]
  },
  {
   "cell_type": "code",
   "execution_count": 39,
   "metadata": {},
   "outputs": [
    {
     "name": "stdout",
     "output_type": "stream",
     "text": [
      "Test set evaluation:\n",
      "_____________________________________\n",
      "MAE: 46.39005417326388\n",
      "MSE: 10902.907991463391\n",
      "RMSE: 104.41699091366017\n",
      "R2 Square 0.7982725046162611\n",
      "__________________________________\n",
      "Train set evaluation:\n",
      "_____________________________________\n",
      "MAE: 17.169231805218878\n",
      "MSE: 1455.4640170694202\n",
      "RMSE: 38.15054412546982\n",
      "R2 Square 0.9723240899567903\n",
      "__________________________________\n"
     ]
    }
   ],
   "source": [
    "print('Test set evaluation:\\n_____________________________________')\n",
    "print_evaluate(y_test, test_pred)\n",
    "\n",
    "print('Train set evaluation:\\n_____________________________________')\n",
    "print_evaluate(y_train, train_pred)"
   ]
  },
  {
   "cell_type": "markdown",
   "metadata": {},
   "source": [
    "# Conventional ML - XGBoost Classification"
   ]
  },
  {
   "cell_type": "code",
   "execution_count": 40,
   "metadata": {},
   "outputs": [],
   "source": [
    "# from sklearn.preprocessing import LabelEncoder  \n",
    "# le = LabelEncoder()\n",
    "# y_train_le = le.fit_transform(y_train) # Change class from [1, 2, 3, 4, ..., 9] to [0, 1, 2, 3, ..., 8]"
   ]
  },
  {
   "cell_type": "code",
   "execution_count": 41,
   "metadata": {},
   "outputs": [
    {
     "data": {
      "text/plain": [
       "array([719.11564227, 505.18127625, 600.08447843, ..., 695.3868864 ,\n",
       "       279.21276792, 584.04802781])"
      ]
     },
     "execution_count": 41,
     "metadata": {},
     "output_type": "execute_result"
    }
   ],
   "source": [
    "y_train"
   ]
  },
  {
   "cell_type": "code",
   "execution_count": 42,
   "metadata": {},
   "outputs": [],
   "source": [
    "# y_train_le"
   ]
  },
  {
   "cell_type": "code",
   "execution_count": 43,
   "metadata": {},
   "outputs": [
    {
     "data": {
      "text/plain": [
       "XGBRegressor(base_score=0.5, booster='gbtree', callbacks=None,\n",
       "             colsample_bylevel=1, colsample_bynode=1, colsample_bytree=1,\n",
       "             early_stopping_rounds=None, enable_categorical=False,\n",
       "             eval_metric=None, feature_types=None, gamma=0, gpu_id=-1,\n",
       "             grow_policy='depthwise', importance_type=None,\n",
       "             interaction_constraints='', learning_rate=0.01, max_bin=256,\n",
       "             max_cat_threshold=64, max_cat_to_onehot=4, max_delta_step=0,\n",
       "             max_depth=10, max_leaves=0, min_child_weight=1, missing=nan,\n",
       "             monotone_constraints='()', n_estimators=1000, n_jobs=0,\n",
       "             num_parallel_tree=1, predictor='auto', random_state=0, ...)"
      ]
     },
     "execution_count": 43,
     "metadata": {},
     "output_type": "execute_result"
    }
   ],
   "source": [
    "# XGB = XGBClassifier(n_estimators = 1000, learning_rate = 0.01, max_depth = 10)\n",
    "XGB = XGBRegressor(n_estimators = 1000, learning_rate = 0.01, max_depth = 10)\n",
    "XGB.fit(x_train, y_train)"
   ]
  },
  {
   "cell_type": "code",
   "execution_count": 44,
   "metadata": {},
   "outputs": [],
   "source": [
    "test_pred = XGB.predict(x_test)\n",
    "train_pred = XGB.predict(x_train)"
   ]
  },
  {
   "cell_type": "code",
   "execution_count": 45,
   "metadata": {},
   "outputs": [
    {
     "name": "stdout",
     "output_type": "stream",
     "text": [
      "Test set evaluation:\n",
      "_____________________________________\n",
      "MAE: 53.36333076285369\n",
      "MSE: 12183.499858425146\n",
      "RMSE: 110.3788922685182\n",
      "R2 Square 0.7745787717026892\n",
      "__________________________________\n",
      "Train set evaluation:\n",
      "_____________________________________\n",
      "MAE: 43.80348367419779\n",
      "MSE: 6093.249681171035\n",
      "RMSE: 78.05927030898403\n",
      "R2 Square 0.8841357614690778\n",
      "__________________________________\n"
     ]
    }
   ],
   "source": [
    "print('Test set evaluation:\\n_____________________________________')\n",
    "print_evaluate(y_test, test_pred)\n",
    "\n",
    "print('Train set evaluation:\\n_____________________________________')\n",
    "print_evaluate(y_train, train_pred)"
   ]
  },
  {
   "cell_type": "code",
   "execution_count": 46,
   "metadata": {},
   "outputs": [],
   "source": [
    "# y_pred_XGB_ = XGB.predict(x_test)\n",
    "# y_pred_XGB = le.inverse_transform(y_pred_XGB_) # Change class back from [0, 1, 2, 3, ..., 8] to [1, 2, 3, 4, ..., 9]\n",
    "# y_pred_XGB"
   ]
  },
  {
   "cell_type": "code",
   "execution_count": 47,
   "metadata": {},
   "outputs": [],
   "source": [
    "# from sklearn.metrics import accuracy_score\n",
    "# # The confusion matrix helps visualize the performance of the algorithm.\n",
    "# cm = metrics.confusion_matrix(y_test, y_pred_XGB)\n",
    "\n",
    "# # compute and print accuracy score\n",
    "# # compute and print accuracy score\n",
    "# print('Training Accuracy is: {0:0.4f}'. format(XGB.fit(x_train, y_train_le).score(x_train, y_train_le)))\n",
    "# print('Testing Accuracy is: {0:0.4f}'. format(accuracy_score(y_test, y_pred_XGB)))"
   ]
  },
  {
   "cell_type": "code",
   "execution_count": 48,
   "metadata": {},
   "outputs": [],
   "source": [
    "# %matplotlib inline\n",
    "# import matplotlib.pyplot as plt\n",
    "\n",
    "# from IPython.display import Image, display\n",
    "\n",
    "# fig, ax = plt.subplots(figsize=(5, 5))\n",
    "# ax.matshow(cm, cmap=plt.cm.Reds, alpha=0.3)\n",
    "# for i in range(cm.shape[0]):\n",
    "#      for j in range(cm.shape[1]):\n",
    "#          ax.text(x=j, y=i,\n",
    "#                 s=cm[i, j], \n",
    "#                 va='center', ha='center')\n",
    "# plt.xlabel('Predicted Values')\n",
    "# plt.ylabel('Actual Values')\n",
    "\n",
    "# x1 = [0,1,2,3,4,5,6,7,8,9,10,11,12,13,14,15,16,17]\n",
    "# squad = ['1 (SS)','2 (SiS)','3 (CSS)','4 (SSi)','5 (Si)','6 (ShSi)','7 (SiSh)','8 (Ch)','9 (PLS)','10 (LS)',\n",
    "#          '11 (ALS)', '12 (M)', '13 (D)', '14 (CC)', '15 (COM)', '16 (COAL)', '17 (CIN)', '18 (ANH)']\n",
    "\n",
    "# ax.set_xticks(x1)\n",
    "# ax.set_xticklabels(squad, minor=False, rotation=90)\n",
    "# ax.set_yticks(x1)\n",
    "# ax.set_yticklabels(squad)\n",
    "\n",
    "# plt.show()\n",
    "# print(classification_report(y_test, y_pred_XGB))"
   ]
  },
  {
   "cell_type": "markdown",
   "metadata": {
    "id": "JRGhThRX8rLH"
   },
   "source": [
    "## Applying the classification model to the blind data\n",
    "\n",
    "We held a well back from the training, and stored it in a dataframe called `blind`:"
   ]
  },
  {
   "cell_type": "code",
   "execution_count": 49,
   "metadata": {
    "colab": {
     "base_uri": "https://localhost:8080/",
     "height": 424
    },
    "id": "8N1sLux-8p5b",
    "outputId": "5cc2f04f-1472-4872-8356-08e1c34f6bde"
   },
   "outputs": [
    {
     "data": {
      "text/plain": [
       "array([[ 2.85159929e-01, -2.14646142e-01, -1.30442150e+00,\n",
       "         2.35386893e-01, -1.36558527e+00],\n",
       "       [ 5.74644562e-01, -2.14708853e-01, -1.28937578e+00,\n",
       "         3.80739897e-01, -1.36025141e+00],\n",
       "       [ 9.88619261e-01, -2.12614396e-01, -1.27954868e+00,\n",
       "         1.88476468e-01, -1.31407717e+00],\n",
       "       ...,\n",
       "       [-2.23028321e-01, -2.45573871e-01, -4.16360164e-01,\n",
       "         4.23025439e-01, -4.47446978e-01],\n",
       "       [ 8.38069296e-04, -2.44658330e-01, -4.63294281e-01,\n",
       "         7.22322766e-01, -3.89224853e-01],\n",
       "       [ 1.53575490e-01, -2.43140790e-01, -6.07570807e-01,\n",
       "         9.75371267e-01, -5.29302130e-01]])"
      ]
     },
     "execution_count": 49,
     "metadata": {},
     "output_type": "execute_result"
    }
   ],
   "source": [
    "# blind\n",
    "blind_test = blind.drop(['Vp','Vs','WELL', 'Depth','Facies'], axis=1)\n",
    "x_blind = scaler.transform(blind_test)\n",
    "x_blind"
   ]
  },
  {
   "cell_type": "markdown",
   "metadata": {},
   "source": [
    "## SVC Prediction"
   ]
  },
  {
   "cell_type": "code",
   "execution_count": 50,
   "metadata": {},
   "outputs": [],
   "source": [
    "y_pred_SVC = svm_reg.predict(x_blind)\n",
    "# blind['Prediction_SVC'] = y_pred_SVC.astype(float)"
   ]
  },
  {
   "cell_type": "code",
   "execution_count": 51,
   "metadata": {},
   "outputs": [
    {
     "data": {
      "text/plain": [
       "array([408.98090515, 445.3038323 , 470.74631194, ..., 585.10636814,\n",
       "       558.0838108 , 533.554677  ])"
      ]
     },
     "execution_count": 51,
     "metadata": {},
     "output_type": "execute_result"
    }
   ],
   "source": [
    "y_pred_SVC"
   ]
  },
  {
   "cell_type": "code",
   "execution_count": 68,
   "metadata": {},
   "outputs": [],
   "source": [
    "# DF = pd.DataFrame(y_pred_SVC)\n",
    "# DF.to_csv(\"well_15_Vs_pred_SVM.csv\")"
   ]
  },
  {
   "cell_type": "code",
   "execution_count": 53,
   "metadata": {},
   "outputs": [
    {
     "data": {
      "text/plain": [
       "0       373.319164\n",
       "1       367.195897\n",
       "2       356.882324\n",
       "3       352.642505\n",
       "4       343.942351\n",
       "           ...    \n",
       "5713    355.084999\n",
       "5714    360.638619\n",
       "5715    368.611133\n",
       "5716    377.090986\n",
       "5717    380.055881\n",
       "Name: Vs, Length: 5718, dtype: float64"
      ]
     },
     "execution_count": 53,
     "metadata": {},
     "output_type": "execute_result"
    }
   ],
   "source": [
    "blind['Vs']"
   ]
  },
  {
   "cell_type": "code",
   "execution_count": 71,
   "metadata": {},
   "outputs": [
    {
     "data": {
      "image/png": "[encoded data removed]",
      "text/plain": [
       "<Figure size 360x864 with 1 Axes>"
      ]
     },
     "metadata": {
      "needs_background": "light"
     },
     "output_type": "display_data"
    }
   ],
   "source": [
    "plt.plot(blind['Vs'],blind['Depth'],label=\"Measured Vs\")\n",
    "plt.plot(y_pred_SVC,blind['Depth'],label=\"Predicted Vs\")\n",
    "plt.legend()\n",
    "plt.gca().invert_yaxis()\n",
    "plt.grid()\n",
    "plt.xlabel(\"Vs\")\n",
    "plt.ylabel(\"Depth\")\n",
    "plt.legend()\n",
    "fig = plt.gcf()\n",
    "fig.set_size_inches(5, 12)\n",
    "# fig.savefig('Vp_pred_6.png', dpi=100)"
   ]
  },
  {
   "cell_type": "code",
   "execution_count": 55,
   "metadata": {},
   "outputs": [
    {
     "name": "stdout",
     "output_type": "stream",
     "text": [
      "MAE: 84.20302041008313\n",
      "MSE: 13037.117478908049\n",
      "RMSE: 114.18019740264968\n",
      "R2 Square 0.6003785138641355\n",
      "__________________________________\n"
     ]
    }
   ],
   "source": [
    "print_evaluate(blind['Vs'], y_pred_SVC)"
   ]
  },
  {
   "cell_type": "code",
   "execution_count": 58,
   "metadata": {},
   "outputs": [
    {
     "name": "stdout",
     "output_type": "stream",
     "text": [
      "Average Error Vs = 20.428925607907942\n",
      "Pearson = 0.8265526196470029\n"
     ]
    }
   ],
   "source": [
    "# Calculate Average Error\n",
    "# s_vp = Vp_pred / Vp_meas\n",
    "# s_vs = Vs_pred / Vs_meas\n",
    "#Error_vp = (abs(1-s_vp)/(1)) * 100\n",
    "\n",
    "import statistics\n",
    "s_vs = y_pred_SVC / blind['Vs']\n",
    "Error_vs = (abs(1 - s_vs)/1) * 100\n",
    "Error_vs = statistics.mean(Error_vs)\n",
    "\n",
    "# Pearson's coefficient correlation\n",
    "Pearson = np.corrcoef(y_pred_SVC,blind['Vs'])\n",
    "\n",
    "print('Average Error Vs =',Error_vs)\n",
    "print('Pearson =',Pearson[1,0])"
   ]
  },
  {
   "cell_type": "markdown",
   "metadata": {},
   "source": [
    "# RFC Prediction"
   ]
  },
  {
   "cell_type": "code",
   "execution_count": 59,
   "metadata": {},
   "outputs": [],
   "source": [
    "y_pred_RF = rf_reg.predict(x_blind)"
   ]
  },
  {
   "cell_type": "code",
   "execution_count": 60,
   "metadata": {},
   "outputs": [
    {
     "data": {
      "image/png": "[encoded data removed]",
      "text/plain": [
       "<Figure size 360x864 with 1 Axes>"
      ]
     },
     "metadata": {
      "needs_background": "light"
     },
     "output_type": "display_data"
    }
   ],
   "source": [
    "plt.plot(blind['Vs'],blind['Depth'],label=\"Measured Vs\")\n",
    "plt.plot(y_pred_RF,blind['Depth'],label=\"Predicted Vs\")\n",
    "plt.legend()\n",
    "plt.gca().invert_yaxis()\n",
    "plt.grid()\n",
    "plt.xlabel(\"Vs\")\n",
    "plt.ylabel(\"Depth\")\n",
    "plt.legend()\n",
    "fig = plt.gcf()\n",
    "fig.set_size_inches(5, 12)\n",
    "# fig.savefig('Vp_pred_6.png', dpi=100)"
   ]
  },
  {
   "cell_type": "code",
   "execution_count": 61,
   "metadata": {},
   "outputs": [
    {
     "name": "stdout",
     "output_type": "stream",
     "text": [
      "MAE: 253.2774995095219\n",
      "MSE: 152103.31955381721\n",
      "RMSE: 390.00425581500673\n",
      "R2 Square -3.6623615001270817\n",
      "__________________________________\n"
     ]
    }
   ],
   "source": [
    "print_evaluate(blind['Vs'], y_pred_RF)"
   ]
  },
  {
   "cell_type": "code",
   "execution_count": 62,
   "metadata": {},
   "outputs": [
    {
     "name": "stdout",
     "output_type": "stream",
     "text": [
      "Average Error Vs = 45.22847836740684\n",
      "Pearson = 0.7149163908387967\n"
     ]
    }
   ],
   "source": [
    "# Calculate Average Error\n",
    "# s_vp = Vp_pred / Vp_meas\n",
    "# s_vs = Vs_pred / Vs_meas\n",
    "#Error_vp = (abs(1-s_vp)/(1)) * 100\n",
    "\n",
    "import statistics\n",
    "s_vs = y_pred_RF / blind['Vs']\n",
    "Error_vs = (abs(1 - s_vs)/1) * 100\n",
    "Error_vs = statistics.mean(Error_vs)\n",
    "\n",
    "# Pearson's coefficient correlation\n",
    "Pearson = np.corrcoef(y_pred_RF,blind['Vs'])\n",
    "\n",
    "print('Average Error Vs =',Error_vs)\n",
    "print('Pearson =',Pearson[1,0])"
   ]
  },
  {
   "cell_type": "code",
   "execution_count": 69,
   "metadata": {},
   "outputs": [],
   "source": [
    "# DF = pd.DataFrame(y_pred_RF)\n",
    "# DF.to_csv(\"well_15_Vs_pred_RF.csv\")"
   ]
  },
  {
   "cell_type": "markdown",
   "metadata": {},
   "source": [
    "# XGBoost Prediction"
   ]
  },
  {
   "cell_type": "code",
   "execution_count": 63,
   "metadata": {},
   "outputs": [],
   "source": [
    "y_pred_XGB = XGB.predict(x_blind)"
   ]
  },
  {
   "cell_type": "code",
   "execution_count": 64,
   "metadata": {},
   "outputs": [
    {
     "data": {
      "text/plain": [
       "array([391.43945029, 457.23547512, 440.53226261, ..., 713.25013072,\n",
       "       645.40179342, 546.33129453])"
      ]
     },
     "execution_count": 64,
     "metadata": {},
     "output_type": "execute_result"
    }
   ],
   "source": [
    "y_pred_RF"
   ]
  },
  {
   "cell_type": "code",
   "execution_count": 65,
   "metadata": {},
   "outputs": [
    {
     "data": {
      "image/png": "[encoded data removed]",
      "text/plain": [
       "<Figure size 360x864 with 1 Axes>"
      ]
     },
     "metadata": {
      "needs_background": "light"
     },
     "output_type": "display_data"
    }
   ],
   "source": [
    "plt.plot(blind['Vs'],blind['Depth'],label=\"Measured Vs\")\n",
    "plt.plot(y_pred_XGB,blind['Depth'],label=\"Predicted Vs\")\n",
    "plt.legend()\n",
    "plt.gca().invert_yaxis()\n",
    "plt.grid()\n",
    "plt.xlabel(\"Vs\")\n",
    "plt.ylabel(\"Depth\")\n",
    "plt.legend()\n",
    "fig = plt.gcf()\n",
    "fig.set_size_inches(5, 12)\n",
    "# fig.savefig('Vp_pred_6.png', dpi=100)"
   ]
  },
  {
   "cell_type": "code",
   "execution_count": 66,
   "metadata": {},
   "outputs": [
    {
     "name": "stdout",
     "output_type": "stream",
     "text": [
      "MAE: 270.3939105339677\n",
      "MSE: 184483.297735345\n",
      "RMSE: 429.515189178852\n",
      "R2 Square -4.654891867586254\n",
      "__________________________________\n"
     ]
    }
   ],
   "source": [
    "print_evaluate(blind['Vs'], y_pred_XGB)"
   ]
  },
  {
   "cell_type": "code",
   "execution_count": 67,
   "metadata": {},
   "outputs": [
    {
     "name": "stdout",
     "output_type": "stream",
     "text": [
      "Average Error Vs = 46.89109508306052\n",
      "Pearson = 0.7225777982761467\n"
     ]
    }
   ],
   "source": [
    "# Calculate Average Error\n",
    "# s_vp = Vp_pred / Vp_meas\n",
    "# s_vs = Vs_pred / Vs_meas\n",
    "#Error_vp = (abs(1-s_vp)/(1)) * 100\n",
    "\n",
    "import statistics\n",
    "s_vs = y_pred_XGB / blind['Vs']\n",
    "Error_vs = (abs(1 - s_vs)/1) * 100\n",
    "Error_vs = statistics.mean(Error_vs)\n",
    "\n",
    "# Pearson's coefficient correlation\n",
    "Pearson = np.corrcoef(y_pred_XGB,blind['Vs'])\n",
    "\n",
    "print('Average Error Vs =',Error_vs)\n",
    "print('Pearson =',Pearson[1,0])"
   ]
  },
  {
   "cell_type": "code",
   "execution_count": 70,
   "metadata": {},
   "outputs": [],
   "source": [
    "DF = pd.DataFrame(y_pred_XGB)\n",
    "DF.to_csv(\"well_15_Vs_pred_XGB.csv\")"
   ]
  }
 ],
 "metadata": {
  "accelerator": "GPU",
  "colab": {
   "collapsed_sections": [],
   "provenance": []
  },
  "kernelspec": {
   "display_name": "Python 3 (ipykernel)",
   "language": "python",
   "name": "python3"
  },
  "language_info": {
   "codemirror_mode": {
    "name": "ipython",
    "version": 3
   },
   "file_extension": ".py",
   "mimetype": "text/x-python",
   "name": "python",
   "nbconvert_exporter": "python",
   "pygments_lexer": "ipython3",
   "version": "3.7.13"
  }
 },
 "nbformat": 4,
 "nbformat_minor": 1
}
